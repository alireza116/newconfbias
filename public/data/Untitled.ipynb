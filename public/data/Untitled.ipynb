{
 "cells": [
  {
   "cell_type": "code",
   "execution_count": 1,
   "metadata": {},
   "outputs": [],
   "source": [
    "import numpy as np\n",
    "from scipy.stats import pearsonr\n",
    "import pandas as pd\n",
    "import csv\n",
    "import json"
   ]
  },
  {
   "cell_type": "code",
   "execution_count": 2,
   "metadata": {},
   "outputs": [],
   "source": [
    "def generateDataset(rho,n=100):\n",
    "    r = np.array([[1, rho],[rho, 1]])\n",
    "    y = np.random.multivariate_normal([0.0,0.0], r, size=n)\n",
    "    y = y - np.mean(y,axis=0)\n",
    "    x = y[:,0]\n",
    "    y= y[:,1]\n",
    "    d = [{\"x\":i,\"y\":j} for i,j in zip(x,y)]\n",
    "    calcRho = pearsonr(x,y)\n",
    "    return({\"data\":d,\"N\":n,\"rho\":rho,\"calcRho\":calcRho[0]})"
   ]
  },
  {
   "cell_type": "code",
   "execution_count": 3,
   "metadata": {},
   "outputs": [],
   "source": [
    "with open(\"variables.csv\",encoding=\"UTF-8\") as csvFile:\n",
    "    csvData = [i for i in csv.DictReader(csvFile)]"
   ]
  },
  {
   "cell_type": "code",
   "execution_count": 4,
   "metadata": {},
   "outputs": [],
   "source": [
    "csvDf = pd.read_csv(\"variables.csv\")"
   ]
  },
  {
   "cell_type": "code",
   "execution_count": 5,
   "metadata": {},
   "outputs": [
    {
     "data": {
      "text/html": [
       "<div>\n",
       "<style scoped>\n",
       "    .dataframe tbody tr th:only-of-type {\n",
       "        vertical-align: middle;\n",
       "    }\n",
       "\n",
       "    .dataframe tbody tr th {\n",
       "        vertical-align: top;\n",
       "    }\n",
       "\n",
       "    .dataframe thead th {\n",
       "        text-align: right;\n",
       "    }\n",
       "</style>\n",
       "<table border=\"1\" class=\"dataframe\">\n",
       "  <thead>\n",
       "    <tr style=\"text-align: right;\">\n",
       "      <th></th>\n",
       "      <th>Unit of observation</th>\n",
       "      <th>X</th>\n",
       "      <th>Y</th>\n",
       "      <th>True relationship</th>\n",
       "      <th>Political?</th>\n",
       "      <th>rho</th>\n",
       "      <th>set</th>\n",
       "    </tr>\n",
       "  </thead>\n",
       "  <tbody>\n",
       "    <tr>\n",
       "      <th>0</th>\n",
       "      <td>diamonds</td>\n",
       "      <td>Weight</td>\n",
       "      <td>Price</td>\n",
       "      <td>Strongly positive</td>\n",
       "      <td>No</td>\n",
       "      <td>0.9</td>\n",
       "      <td>1</td>\n",
       "    </tr>\n",
       "    <tr>\n",
       "      <th>1</th>\n",
       "      <td>cities</td>\n",
       "      <td>Temperature</td>\n",
       "      <td>Crime rate</td>\n",
       "      <td>Positive</td>\n",
       "      <td>No</td>\n",
       "      <td>0.4</td>\n",
       "      <td>1</td>\n",
       "    </tr>\n",
       "    <tr>\n",
       "      <th>2</th>\n",
       "      <td>people</td>\n",
       "      <td>Yearly income</td>\n",
       "      <td>Height</td>\n",
       "      <td>None</td>\n",
       "      <td>No</td>\n",
       "      <td>0.0</td>\n",
       "      <td>1</td>\n",
       "    </tr>\n",
       "    <tr>\n",
       "      <th>3</th>\n",
       "      <td>people</td>\n",
       "      <td>Exercise amount</td>\n",
       "      <td>Body weight</td>\n",
       "      <td>Negative</td>\n",
       "      <td>No</td>\n",
       "      <td>-0.4</td>\n",
       "      <td>1</td>\n",
       "    </tr>\n",
       "    <tr>\n",
       "      <th>4</th>\n",
       "      <td>cities</td>\n",
       "      <td>Temperature</td>\n",
       "      <td>Sales of Mittens</td>\n",
       "      <td>Strongly Negative</td>\n",
       "      <td>No</td>\n",
       "      <td>-0.9</td>\n",
       "      <td>1</td>\n",
       "    </tr>\n",
       "    <tr>\n",
       "      <th>5</th>\n",
       "      <td>countries</td>\n",
       "      <td>Government spending</td>\n",
       "      <td>Budget deficit</td>\n",
       "      <td>Strongly positive</td>\n",
       "      <td>Yes</td>\n",
       "      <td>0.9</td>\n",
       "      <td>2</td>\n",
       "    </tr>\n",
       "    <tr>\n",
       "      <th>6</th>\n",
       "      <td>countries</td>\n",
       "      <td>Immigrant population</td>\n",
       "      <td>Economic growth</td>\n",
       "      <td>Positive</td>\n",
       "      <td>Yes</td>\n",
       "      <td>0.4</td>\n",
       "      <td>2</td>\n",
       "    </tr>\n",
       "    <tr>\n",
       "      <th>7</th>\n",
       "      <td>cities</td>\n",
       "      <td>Income tax rate</td>\n",
       "      <td>Poverty rate</td>\n",
       "      <td>None</td>\n",
       "      <td>Yes</td>\n",
       "      <td>0.0</td>\n",
       "      <td>2</td>\n",
       "    </tr>\n",
       "    <tr>\n",
       "      <th>8</th>\n",
       "      <td>companies</td>\n",
       "      <td>Labor union participation</td>\n",
       "      <td>Corporate profits</td>\n",
       "      <td>Negative</td>\n",
       "      <td>Yes</td>\n",
       "      <td>-0.4</td>\n",
       "      <td>2</td>\n",
       "    </tr>\n",
       "    <tr>\n",
       "      <th>9</th>\n",
       "      <td>cities</td>\n",
       "      <td>Vaccination rate</td>\n",
       "      <td>Rate of illness</td>\n",
       "      <td>Strongly Negative</td>\n",
       "      <td>Yes</td>\n",
       "      <td>-0.9</td>\n",
       "      <td>2</td>\n",
       "    </tr>\n",
       "  </tbody>\n",
       "</table>\n",
       "</div>"
      ],
      "text/plain": [
       "  Unit of observation                          X                  Y  \\\n",
       "0            diamonds                     Weight              Price   \n",
       "1              cities                Temperature         Crime rate   \n",
       "2              people              Yearly income             Height   \n",
       "3              people            Exercise amount        Body weight   \n",
       "4              cities                Temperature   Sales of Mittens   \n",
       "5           countries        Government spending     Budget deficit   \n",
       "6           countries       Immigrant population    Economic growth   \n",
       "7              cities            Income tax rate       Poverty rate   \n",
       "8           companies  Labor union participation  Corporate profits   \n",
       "9              cities           Vaccination rate    Rate of illness   \n",
       "\n",
       "   True relationship Political?  rho  set  \n",
       "0  Strongly positive         No  0.9    1  \n",
       "1           Positive         No  0.4    1  \n",
       "2               None         No  0.0    1  \n",
       "3           Negative         No -0.4    1  \n",
       "4  Strongly Negative         No -0.9    1  \n",
       "5  Strongly positive        Yes  0.9    2  \n",
       "6           Positive        Yes  0.4    2  \n",
       "7               None        Yes  0.0    2  \n",
       "8           Negative        Yes -0.4    2  \n",
       "9  Strongly Negative        Yes -0.9    2  "
      ]
     },
     "execution_count": 5,
     "metadata": {},
     "output_type": "execute_result"
    }
   ],
   "source": [
    "csvDf"
   ]
  },
  {
   "cell_type": "code",
   "execution_count": 6,
   "metadata": {},
   "outputs": [],
   "source": [
    "allData = {}\n",
    "for idx,row in csvDf.iterrows():\n",
    "    rho = float(row[\"rho\"])\n",
    "    vars = (row[\"X\"],row[\"Y\"])\n",
    "    data = generateDataset(rho)\n",
    "    key = \"_\".join([i for i in vars])\n",
    "    setID = row[\"set\"]\n",
    "    political = row[\"Political?\"]\n",
    "    unit = row[\"Unit of observation\"]\n",
    "    allData[key] = {\n",
    "        \"data\":data,\n",
    "        \"vars\":vars,\n",
    "        \"rho\": rho,\n",
    "        \"set\": setID,\n",
    "        \"political\":political,\n",
    "        \"unitt\" : unit\n",
    "    }"
   ]
  },
  {
   "cell_type": "code",
   "execution_count": 7,
   "metadata": {},
   "outputs": [
    {
     "data": {
      "text/plain": [
       "dict_keys(['Weight_Price', 'Temperature_Crime rate', 'Yearly income_Height', 'Exercise amount_Body weight', 'Temperature_Sales of Mittens', 'Government spending_Budget deficit', 'Immigrant population_Economic growth', 'Income tax rate_Poverty rate', 'Labor union participation_Corporate profits', 'Vaccination rate_Rate of illness'])"
      ]
     },
     "execution_count": 7,
     "metadata": {},
     "output_type": "execute_result"
    }
   ],
   "source": [
    "allData.keys()"
   ]
  },
  {
   "cell_type": "code",
   "execution_count": null,
   "metadata": {},
   "outputs": [],
   "source": []
  },
  {
   "cell_type": "code",
   "execution_count": 8,
   "metadata": {},
   "outputs": [],
   "source": [
    "with open(\"finalSimData.json\",\"w\") as jsonFile:\n",
    "    jsonFile.write(json.dumps(allData))"
   ]
  },
  {
   "cell_type": "code",
   "execution_count": null,
   "metadata": {},
   "outputs": [],
   "source": []
  },
  {
   "cell_type": "code",
   "execution_count": null,
   "metadata": {},
   "outputs": [],
   "source": []
  },
  {
   "cell_type": "code",
   "execution_count": null,
   "metadata": {},
   "outputs": [],
   "source": []
  }
 ],
 "metadata": {
  "kernelspec": {
   "display_name": "Python 3",
   "language": "python",
   "name": "python3"
  },
  "language_info": {
   "codemirror_mode": {
    "name": "ipython",
    "version": 3
   },
   "file_extension": ".py",
   "mimetype": "text/x-python",
   "name": "python",
   "nbconvert_exporter": "python",
   "pygments_lexer": "ipython3",
   "version": "3.7.3"
  }
 },
 "nbformat": 4,
 "nbformat_minor": 2
}
