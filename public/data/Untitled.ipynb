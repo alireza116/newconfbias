{
 "cells": [
  {
   "cell_type": "code",
   "execution_count": 20,
   "metadata": {},
   "outputs": [],
   "source": [
    "import numpy as np\n",
    "from scipy.stats import pearsonr, zscore\n",
    "import matplotlib.pyplot as plt\n",
    "import seaborn as sns\n",
    "sns.set()\n",
    "import pandas as pd\n",
    "import csv\n",
    "import json"
   ]
  },
  {
   "cell_type": "code",
   "execution_count": 50,
   "metadata": {},
   "outputs": [],
   "source": [
    "def generateDataset(rho,n=100):\n",
    "    r = np.array([[1, rho],[rho, 1]])\n",
    "    y = np.random.multivariate_normal([0.0,0.0], r, size=n)\n",
    "#     print(y)\n",
    "#     y = y - np.mean(y,axis=0)\n",
    "#     print(np.mean(y,axis=0))\n",
    "    x = y[:,0]\n",
    "    y = y[:,1]\n",
    "    \n",
    "    # ensure centering\n",
    "    x = x - np.mean(x)\n",
    "    y = y - np.mean(y)\n",
    "    \n",
    "    # ensure equal variance\n",
    "    \n",
    "    \n",
    "    \n",
    "    plt.scatter(x,y)\n",
    "    plt.show()\n",
    "    d = [{\"x\":i,\"y\":j} for i,j in zip(x,y)]\n",
    "    calcRho = pearsonr(x,y)\n",
    "    return({\"data\":d,\"N\":n,\"rho\":rho,\"calcRho\":calcRho[0]})"
   ]
  },
  {
   "cell_type": "code",
   "execution_count": 26,
   "metadata": {},
   "outputs": [],
   "source": [
    "rho = 0\n",
    "n = 10\n",
    "r = np.array([[1, rho],[rho, 1]])\n",
    "y = np.random.multivariate_normal([0.0,0.0], r, size=n)"
   ]
  },
  {
   "cell_type": "code",
   "execution_count": 27,
   "metadata": {},
   "outputs": [
    {
     "data": {
      "text/plain": [
       "[<matplotlib.lines.Line2D at 0x1a23921b70>]"
      ]
     },
     "execution_count": 27,
     "metadata": {},
     "output_type": "execute_result"
    },
    {
     "data": {
      "image/png": "[encoded data removed]",
      "text/plain": [
       "<Figure size 432x288 with 1 Axes>"
      ]
     },
     "metadata": {},
     "output_type": "display_data"
    }
   ],
   "source": [
    "plt.plot(y[:,0], y[:,1], 'x')"
   ]
  },
  {
   "cell_type": "code",
   "execution_count": 28,
   "metadata": {},
   "outputs": [
    {
     "data": {
      "text/plain": [
       "[<matplotlib.lines.Line2D at 0x1a23976cc0>]"
      ]
     },
     "execution_count": 28,
     "metadata": {},
     "output_type": "execute_result"
    },
    {
     "data": {
      "image/png": "[encoded data removed]",
      "text/plain": [
       "<Figure size 432x288 with 1 Axes>"
      ]
     },
     "metadata": {},
     "output_type": "display_data"
    }
   ],
   "source": [
    "zs = zscore(y, axis=0)\n",
    "plt.plot(zs[:,0], zs[:,1], 'x')"
   ]
  },
  {
   "cell_type": "code",
   "execution_count": 40,
   "metadata": {},
   "outputs": [],
   "source": [
    "with open(\"variables.csv\",encoding=\"UTF-8\") as csvFile:\n",
    "    csvData = [i for i in csv.DictReader(csvFile)]"
   ]
  },
  {
   "cell_type": "code",
   "execution_count": 52,
   "metadata": {},
   "outputs": [],
   "source": [
    "csvDf = pd.read_csv(\"variables.csv\")"
   ]
  },
  {
   "cell_type": "code",
   "execution_count": 53,
   "metadata": {},
   "outputs": [
    {
     "data": {
      "text/html": [
       "<div>\n",
       "<style scoped>\n",
       "    .dataframe tbody tr th:only-of-type {\n",
       "        vertical-align: middle;\n",
       "    }\n",
       "\n",
       "    .dataframe tbody tr th {\n",
       "        vertical-align: top;\n",
       "    }\n",
       "\n",
       "    .dataframe thead th {\n",
       "        text-align: right;\n",
       "    }\n",
       "</style>\n",
       "<table border=\"1\" class=\"dataframe\">\n",
       "  <thead>\n",
       "    <tr style=\"text-align: right;\">\n",
       "      <th></th>\n",
       "      <th>Unit of observation</th>\n",
       "      <th>X</th>\n",
       "      <th>Y</th>\n",
       "      <th>True relationship</th>\n",
       "      <th>Political?</th>\n",
       "      <th>rho</th>\n",
       "      <th>set</th>\n",
       "    </tr>\n",
       "  </thead>\n",
       "  <tbody>\n",
       "    <tr>\n",
       "      <th>0</th>\n",
       "      <td>diamonds</td>\n",
       "      <td>Weight</td>\n",
       "      <td>Price</td>\n",
       "      <td>Strongly positive</td>\n",
       "      <td>No</td>\n",
       "      <td>0.9</td>\n",
       "      <td>1</td>\n",
       "    </tr>\n",
       "    <tr>\n",
       "      <th>1</th>\n",
       "      <td>cities</td>\n",
       "      <td>Temperature</td>\n",
       "      <td>Crime rate</td>\n",
       "      <td>Positive</td>\n",
       "      <td>No</td>\n",
       "      <td>0.4</td>\n",
       "      <td>1</td>\n",
       "    </tr>\n",
       "    <tr>\n",
       "      <th>2</th>\n",
       "      <td>people</td>\n",
       "      <td>Yearly income</td>\n",
       "      <td>Height</td>\n",
       "      <td>None</td>\n",
       "      <td>No</td>\n",
       "      <td>0.0</td>\n",
       "      <td>1</td>\n",
       "    </tr>\n",
       "    <tr>\n",
       "      <th>3</th>\n",
       "      <td>people</td>\n",
       "      <td>Exercise amount</td>\n",
       "      <td>Body weight</td>\n",
       "      <td>Negative</td>\n",
       "      <td>No</td>\n",
       "      <td>-0.4</td>\n",
       "      <td>1</td>\n",
       "    </tr>\n",
       "    <tr>\n",
       "      <th>4</th>\n",
       "      <td>cities</td>\n",
       "      <td>Temperature</td>\n",
       "      <td>Sales of Mittens</td>\n",
       "      <td>Strongly Negative</td>\n",
       "      <td>No</td>\n",
       "      <td>-0.9</td>\n",
       "      <td>1</td>\n",
       "    </tr>\n",
       "    <tr>\n",
       "      <th>5</th>\n",
       "      <td>countries</td>\n",
       "      <td>Government spending</td>\n",
       "      <td>Budget deficit</td>\n",
       "      <td>Strongly positive</td>\n",
       "      <td>Yes</td>\n",
       "      <td>0.9</td>\n",
       "      <td>2</td>\n",
       "    </tr>\n",
       "    <tr>\n",
       "      <th>6</th>\n",
       "      <td>countries</td>\n",
       "      <td>Immigrant population</td>\n",
       "      <td>Economic growth</td>\n",
       "      <td>Positive</td>\n",
       "      <td>Yes</td>\n",
       "      <td>0.4</td>\n",
       "      <td>2</td>\n",
       "    </tr>\n",
       "    <tr>\n",
       "      <th>7</th>\n",
       "      <td>cities</td>\n",
       "      <td>Income tax rate</td>\n",
       "      <td>Poverty rate</td>\n",
       "      <td>None</td>\n",
       "      <td>Yes</td>\n",
       "      <td>0.0</td>\n",
       "      <td>2</td>\n",
       "    </tr>\n",
       "    <tr>\n",
       "      <th>8</th>\n",
       "      <td>companies</td>\n",
       "      <td>Labor union participation</td>\n",
       "      <td>Corporate profits</td>\n",
       "      <td>Negative</td>\n",
       "      <td>Yes</td>\n",
       "      <td>-0.4</td>\n",
       "      <td>2</td>\n",
       "    </tr>\n",
       "    <tr>\n",
       "      <th>9</th>\n",
       "      <td>cities</td>\n",
       "      <td>Vaccination rate</td>\n",
       "      <td>Rate of illness</td>\n",
       "      <td>Strongly Negative</td>\n",
       "      <td>Yes</td>\n",
       "      <td>-0.9</td>\n",
       "      <td>2</td>\n",
       "    </tr>\n",
       "  </tbody>\n",
       "</table>\n",
       "</div>"
      ],
      "text/plain": [
       "  Unit of observation                          X                  Y  \\\n",
       "0            diamonds                     Weight              Price   \n",
       "1              cities                Temperature         Crime rate   \n",
       "2              people              Yearly income             Height   \n",
       "3              people            Exercise amount        Body weight   \n",
       "4              cities                Temperature   Sales of Mittens   \n",
       "5           countries        Government spending     Budget deficit   \n",
       "6           countries       Immigrant population    Economic growth   \n",
       "7              cities            Income tax rate       Poverty rate   \n",
       "8           companies  Labor union participation  Corporate profits   \n",
       "9              cities           Vaccination rate    Rate of illness   \n",
       "\n",
       "   True relationship Political?  rho  set  \n",
       "0  Strongly positive         No  0.9    1  \n",
       "1           Positive         No  0.4    1  \n",
       "2               None         No  0.0    1  \n",
       "3           Negative         No -0.4    1  \n",
       "4  Strongly Negative         No -0.9    1  \n",
       "5  Strongly positive        Yes  0.9    2  \n",
       "6           Positive        Yes  0.4    2  \n",
       "7               None        Yes  0.0    2  \n",
       "8           Negative        Yes -0.4    2  \n",
       "9  Strongly Negative        Yes -0.9    2  "
      ]
     },
     "execution_count": 53,
     "metadata": {},
     "output_type": "execute_result"
    }
   ],
   "source": [
    "csvDf"
   ]
  },
  {
   "cell_type": "code",
   "execution_count": 54,
   "metadata": {
    "scrolled": false
   },
   "outputs": [
    {
     "name": "stdout",
     "output_type": "stream",
     "text": [
      "0.9\n"
     ]
    },
    {
     "data": {
      "image/png": "[encoded data removed]",
      "text/plain": [
       "<Figure size 432x288 with 1 Axes>"
      ]
     },
     "metadata": {},
     "output_type": "display_data"
    },
    {
     "name": "stdout",
     "output_type": "stream",
     "text": [
      "0.4\n"
     ]
    },
    {
     "data": {
      "image/png": "[encoded data removed]",
      "text/plain": [
       "<Figure size 432x288 with 1 Axes>"
      ]
     },
     "metadata": {},
     "output_type": "display_data"
    },
    {
     "name": "stdout",
     "output_type": "stream",
     "text": [
      "0.0\n"
     ]
    },
    {
     "data": {
      "image/png": "[encoded data removed]",
      "text/plain": [
       "<Figure size 432x288 with 1 Axes>"
      ]
     },
     "metadata": {},
     "output_type": "display_data"
    },
    {
     "name": "stdout",
     "output_type": "stream",
     "text": [
      "-0.4\n"
     ]
    },
    {
     "data": {
      "image/png": "[encoded data removed]",
      "text/plain": [
       "<Figure size 432x288 with 1 Axes>"
      ]
     },
     "metadata": {},
     "output_type": "display_data"
    },
    {
     "name": "stdout",
     "output_type": "stream",
     "text": [
      "-0.9\n"
     ]
    },
    {
     "data": {
      "image/png": "[encoded data removed]",
      "text/plain": [
       "<Figure size 432x288 with 1 Axes>"
      ]
     },
     "metadata": {},
     "output_type": "display_data"
    },
    {
     "name": "stdout",
     "output_type": "stream",
     "text": [
      "0.9\n"
     ]
    },
    {
     "data": {
      "image/png": "[encoded data removed]",
      "text/plain": [
       "<Figure size 432x288 with 1 Axes>"
      ]
     },
     "metadata": {},
     "output_type": "display_data"
    },
    {
     "name": "stdout",
     "output_type": "stream",
     "text": [
      "0.4\n"
     ]
    },
    {
     "data": {
      "image/png": "[encoded data removed]",
      "text/plain": [
       "<Figure size 432x288 with 1 Axes>"
      ]
     },
     "metadata": {},
     "output_type": "display_data"
    },
    {
     "name": "stdout",
     "output_type": "stream",
     "text": [
      "0.0\n"
     ]
    },
    {
     "data": {
      "image/png": "[encoded data removed]",
      "text/plain": [
       "<Figure size 432x288 with 1 Axes>"
      ]
     },
     "metadata": {},
     "output_type": "display_data"
    },
    {
     "name": "stdout",
     "output_type": "stream",
     "text": [
      "-0.4\n"
     ]
    },
    {
     "data": {
      "image/png": "[encoded data removed]",
      "text/plain": [
       "<Figure size 432x288 with 1 Axes>"
      ]
     },
     "metadata": {},
     "output_type": "display_data"
    },
    {
     "name": "stdout",
     "output_type": "stream",
     "text": [
      "-0.9\n"
     ]
    },
    {
     "data": {
      "image/png": "[encoded data removed]",
      "text/plain": [
       "<Figure size 432x288 with 1 Axes>"
      ]
     },
     "metadata": {},
     "output_type": "display_data"
    }
   ],
   "source": [
    "allData = {}\n",
    "for idx,row in csvDf.iterrows():\n",
    "    rho = float(row[\"rho\"])\n",
    "    print(rho)\n",
    "    vars = (row[\"X\"],row[\"Y\"])\n",
    "    data = generateDataset(rho)\n",
    "    key = \"_\".join([i for i in vars])\n",
    "    setID = row[\"set\"]\n",
    "    political = row[\"Political?\"]\n",
    "    unit = row[\"Unit of observation\"]\n",
    "    allData[key] = {\n",
    "        \"data\":data,\n",
    "        \"vars\":vars,\n",
    "        \"rho\": rho,\n",
    "        \"set\": setID,\n",
    "        \"political\":political,\n",
    "        \"unitt\" : unit\n",
    "    }"
   ]
  },
  {
   "cell_type": "code",
   "execution_count": 27,
   "metadata": {},
   "outputs": [
    {
     "data": {
      "text/plain": [
       "dict_keys(['Weight_Price', 'Temperature_Crime rate', 'Yearly income_Height', 'Exercise amount_Body weight', 'Temperature_Sales of Mittens', 'Government spending_Budget deficit', 'Immigrant population_Economic growth', 'Income tax rate_Poverty rate', 'Labor union participation_Corporate profits', 'Vaccination rate_Rate of illness'])"
      ]
     },
     "execution_count": 27,
     "metadata": {},
     "output_type": "execute_result"
    }
   ],
   "source": [
    "allData.keys()"
   ]
  },
  {
   "cell_type": "code",
   "execution_count": null,
   "metadata": {},
   "outputs": [],
   "source": []
  },
  {
   "cell_type": "code",
   "execution_count": 55,
   "metadata": {},
   "outputs": [],
   "source": [
    "with open(\"finalSimData.json\",\"w\") as jsonFile:\n",
    "    jsonFile.write(json.dumps(allData))"
   ]
  },
  {
   "cell_type": "code",
   "execution_count": 6,
   "metadata": {},
   "outputs": [],
   "source": [
    "with open(\"finalSimData.json\",\"r\") as jsonFile:\n",
    "    allData = json.loads(jsonFile.read())"
   ]
  },
  {
   "cell_type": "code",
   "execution_count": 39,
   "metadata": {
    "scrolled": false
   },
   "outputs": [
    {
     "name": "stdout",
     "output_type": "stream",
     "text": [
      "x   -3.073816\n",
      "y   -3.018959\n",
      "dtype: float64\n",
      "x    2.478244\n",
      "y    2.669139\n",
      "dtype: float64\n"
     ]
    },
    {
     "data": {
      "image/png": "[encoded data removed]",
      "text/plain": [
       "<Figure size 216x216 with 1 Axes>"
      ]
     },
     "metadata": {},
     "output_type": "display_data"
    },
    {
     "name": "stdout",
     "output_type": "stream",
     "text": [
      "x   -2.879369\n",
      "y   -2.165595\n",
      "dtype: float64\n",
      "x    2.633042\n",
      "y    2.332949\n",
      "dtype: float64\n"
     ]
    },
    {
     "data": {
      "image/png": "[encoded data removed]",
      "text/plain": [
       "<Figure size 216x216 with 1 Axes>"
      ]
     },
     "metadata": {},
     "output_type": "display_data"
    },
    {
     "name": "stdout",
     "output_type": "stream",
     "text": [
      "x   -2.321919\n",
      "y   -2.381689\n",
      "dtype: float64\n",
      "x    2.772746\n",
      "y    2.361166\n",
      "dtype: float64\n"
     ]
    },
    {
     "data": {
      "image/png": "[encoded data removed]",
      "text/plain": [
       "<Figure size 216x216 with 1 Axes>"
      ]
     },
     "metadata": {},
     "output_type": "display_data"
    },
    {
     "name": "stdout",
     "output_type": "stream",
     "text": [
      "x   -1.699841\n",
      "y   -2.369101\n",
      "dtype: float64\n",
      "x    1.999351\n",
      "y    2.513155\n",
      "dtype: float64\n"
     ]
    },
    {
     "data": {
      "image/png": "[encoded data removed]",
      "text/plain": [
       "<Figure size 216x216 with 1 Axes>"
      ]
     },
     "metadata": {},
     "output_type": "display_data"
    },
    {
     "name": "stdout",
     "output_type": "stream",
     "text": [
      "x   -2.586022\n",
      "y   -2.782663\n",
      "dtype: float64\n",
      "x    2.523757\n",
      "y    2.709842\n",
      "dtype: float64\n"
     ]
    },
    {
     "data": {
      "image/png": "[encoded data removed]",
      "text/plain": [
       "<Figure size 216x216 with 1 Axes>"
      ]
     },
     "metadata": {},
     "output_type": "display_data"
    },
    {
     "name": "stdout",
     "output_type": "stream",
     "text": [
      "x   -2.759853\n",
      "y   -2.595186\n",
      "dtype: float64\n",
      "x    2.745058\n",
      "y    2.726582\n",
      "dtype: float64\n"
     ]
    },
    {
     "data": {
      "image/png": "[encoded data removed]",
      "text/plain": [
       "<Figure size 216x216 with 1 Axes>"
      ]
     },
     "metadata": {},
     "output_type": "display_data"
    },
    {
     "name": "stdout",
     "output_type": "stream",
     "text": [
      "x   -2.208593\n",
      "y   -2.526207\n",
      "dtype: float64\n",
      "x    2.212015\n",
      "y    3.024730\n",
      "dtype: float64\n"
     ]
    },
    {
     "data": {
      "image/png": "[encoded data removed]",
      "text/plain": [
       "<Figure size 216x216 with 1 Axes>"
      ]
     },
     "metadata": {},
     "output_type": "display_data"
    },
    {
     "name": "stdout",
     "output_type": "stream",
     "text": [
      "x   -2.908244\n",
      "y   -1.857379\n",
      "dtype: float64\n",
      "x    2.179959\n",
      "y    3.143547\n",
      "dtype: float64\n"
     ]
    },
    {
     "data": {
      "image/png": "[encoded data removed]",
      "text/plain": [
       "<Figure size 216x216 with 1 Axes>"
      ]
     },
     "metadata": {},
     "output_type": "display_data"
    },
    {
     "name": "stdout",
     "output_type": "stream",
     "text": [
      "x   -2.265512\n",
      "y   -2.613947\n",
      "dtype: float64\n",
      "x    2.400244\n",
      "y    2.165641\n",
      "dtype: float64\n"
     ]
    },
    {
     "data": {
      "image/png": "[encoded data removed]",
      "text/plain": [
       "<Figure size 216x216 with 1 Axes>"
      ]
     },
     "metadata": {},
     "output_type": "display_data"
    },
    {
     "name": "stdout",
     "output_type": "stream",
     "text": [
      "x   -2.593951\n",
      "y   -2.082805\n",
      "dtype: float64\n",
      "x    2.201112\n",
      "y    2.647624\n",
      "dtype: float64\n"
     ]
    },
    {
     "data": {
      "image/png": "[encoded data removed]",
      "text/plain": [
       "<Figure size 216x216 with 1 Axes>"
      ]
     },
     "metadata": {},
     "output_type": "display_data"
    }
   ],
   "source": [
    "for i, var_name in enumerate(allData.keys()):\n",
    "    df = pd.DataFrame(allData[var_name]['data']['data'])\n",
    "    \n",
    "    print(df.min())\n",
    "    print(df.max())\n",
    "    \n",
    "    fig, ax = plt.subplots(figsize=(3,3))\n",
    "    ax.scatter(df.x, df.y)\n",
    "    ax.set_xlim(-3,3)\n",
    "    ax.set_ylim(-3,3)\n",
    "    ax.set_title(var_name)\n",
    "    plt.show()"
   ]
  },
  {
   "cell_type": "markdown",
   "metadata": {},
   "source": [
    "# Test data"
   ]
  },
  {
   "cell_type": "code",
   "execution_count": 39,
   "metadata": {
    "scrolled": false
   },
   "outputs": [
    {
     "name": "stdout",
     "output_type": "stream",
     "text": [
      "-1.0\n"
     ]
    },
    {
     "data": {
      "image/png": "[encoded data removed]",
      "text/plain": [
       "<Figure size 432x288 with 1 Axes>"
      ]
     },
     "metadata": {},
     "output_type": "display_data"
    },
    {
     "name": "stdout",
     "output_type": "stream",
     "text": [
      "-0.9\n"
     ]
    },
    {
     "data": {
      "image/png": "[encoded data removed]",
      "text/plain": [
       "<Figure size 432x288 with 1 Axes>"
      ]
     },
     "metadata": {},
     "output_type": "display_data"
    },
    {
     "name": "stdout",
     "output_type": "stream",
     "text": [
      "-0.8\n"
     ]
    },
    {
     "data": {
      "image/png": "[encoded data removed]",
      "text/plain": [
       "<Figure size 432x288 with 1 Axes>"
      ]
     },
     "metadata": {},
     "output_type": "display_data"
    },
    {
     "name": "stdout",
     "output_type": "stream",
     "text": [
      "-0.7\n"
     ]
    },
    {
     "data": {
      "image/png": "[encoded data removed]",
      "text/plain": [
       "<Figure size 432x288 with 1 Axes>"
      ]
     },
     "metadata": {},
     "output_type": "display_data"
    },
    {
     "name": "stdout",
     "output_type": "stream",
     "text": [
      "-0.6\n"
     ]
    },
    {
     "data": {
      "image/png": "[encoded data removed]",
      "text/plain": [
       "<Figure size 432x288 with 1 Axes>"
      ]
     },
     "metadata": {},
     "output_type": "display_data"
    },
    {
     "name": "stdout",
     "output_type": "stream",
     "text": [
      "-0.5\n"
     ]
    },
    {
     "data": {
      "image/png": "[encoded data removed]",
      "text/plain": [
       "<Figure size 432x288 with 1 Axes>"
      ]
     },
     "metadata": {},
     "output_type": "display_data"
    },
    {
     "name": "stdout",
     "output_type": "stream",
     "text": [
      "-0.4\n"
     ]
    },
    {
     "data": {
      "image/png": "[encoded data removed]",
      "text/plain": [
       "<Figure size 432x288 with 1 Axes>"
      ]
     },
     "metadata": {},
     "output_type": "display_data"
    },
    {
     "name": "stdout",
     "output_type": "stream",
     "text": [
      "-0.3\n"
     ]
    },
    {
     "data": {
      "image/png": "[encoded data removed]",
      "text/plain": [
       "<Figure size 432x288 with 1 Axes>"
      ]
     },
     "metadata": {},
     "output_type": "display_data"
    },
    {
     "name": "stdout",
     "output_type": "stream",
     "text": [
      "-0.2\n"
     ]
    },
    {
     "data": {
      "image/png": "[encoded data removed]",
      "text/plain": [
       "<Figure size 432x288 with 1 Axes>"
      ]
     },
     "metadata": {},
     "output_type": "display_data"
    },
    {
     "name": "stdout",
     "output_type": "stream",
     "text": [
      "-0.1\n"
     ]
    },
    {
     "data": {
      "image/png": "[encoded data removed]",
      "text/plain": [
       "<Figure size 432x288 with 1 Axes>"
      ]
     },
     "metadata": {},
     "output_type": "display_data"
    },
    {
     "name": "stdout",
     "output_type": "stream",
     "text": [
      "0.0\n"
     ]
    },
    {
     "data": {
      "image/png": "[encoded data removed]",
      "text/plain": [
       "<Figure size 432x288 with 1 Axes>"
      ]
     },
     "metadata": {},
     "output_type": "display_data"
    },
    {
     "name": "stdout",
     "output_type": "stream",
     "text": [
      "0.1\n"
     ]
    },
    {
     "data": {
      "image/png": "[encoded data removed]",
      "text/plain": [
       "<Figure size 432x288 with 1 Axes>"
      ]
     },
     "metadata": {},
     "output_type": "display_data"
    },
    {
     "name": "stdout",
     "output_type": "stream",
     "text": [
      "0.2\n"
     ]
    },
    {
     "data": {
      "image/png": "[encoded data removed]",
      "text/plain": [
       "<Figure size 432x288 with 1 Axes>"
      ]
     },
     "metadata": {},
     "output_type": "display_data"
    },
    {
     "name": "stdout",
     "output_type": "stream",
     "text": [
      "0.3\n"
     ]
    },
    {
     "data": {
      "image/png": "[encoded data removed]",
      "text/plain": [
       "<Figure size 432x288 with 1 Axes>"
      ]
     },
     "metadata": {},
     "output_type": "display_data"
    },
    {
     "name": "stdout",
     "output_type": "stream",
     "text": [
      "0.4\n"
     ]
    },
    {
     "data": {
      "image/png": "[encoded data removed]",
      "text/plain": [
       "<Figure size 432x288 with 1 Axes>"
      ]
     },
     "metadata": {},
     "output_type": "display_data"
    },
    {
     "name": "stdout",
     "output_type": "stream",
     "text": [
      "0.5\n"
     ]
    },
    {
     "data": {
      "image/png": "[encoded data removed]",
      "text/plain": [
       "<Figure size 432x288 with 1 Axes>"
      ]
     },
     "metadata": {},
     "output_type": "display_data"
    },
    {
     "name": "stdout",
     "output_type": "stream",
     "text": [
      "0.6\n"
     ]
    },
    {
     "data": {
      "image/png": "[encoded data removed]",
      "text/plain": [
       "<Figure size 432x288 with 1 Axes>"
      ]
     },
     "metadata": {},
     "output_type": "display_data"
    },
    {
     "name": "stdout",
     "output_type": "stream",
     "text": [
      "0.7\n"
     ]
    },
    {
     "data": {
      "image/png": "[encoded data removed]",
      "text/plain": [
       "<Figure size 432x288 with 1 Axes>"
      ]
     },
     "metadata": {},
     "output_type": "display_data"
    },
    {
     "name": "stdout",
     "output_type": "stream",
     "text": [
      "0.8\n"
     ]
    },
    {
     "data": {
      "image/png": "[encoded data removed]",
      "text/plain": [
       "<Figure size 432x288 with 1 Axes>"
      ]
     },
     "metadata": {},
     "output_type": "display_data"
    },
    {
     "name": "stdout",
     "output_type": "stream",
     "text": [
      "0.9\n"
     ]
    },
    {
     "data": {
      "image/png": "[encoded data removed]",
      "text/plain": [
       "<Figure size 432x288 with 1 Axes>"
      ]
     },
     "metadata": {},
     "output_type": "display_data"
    },
    {
     "name": "stdout",
     "output_type": "stream",
     "text": [
      "1.0\n"
     ]
    },
    {
     "data": {
      "image/png": "[encoded data removed]",
      "text/plain": [
       "<Figure size 432x288 with 1 Axes>"
      ]
     },
     "metadata": {},
     "output_type": "display_data"
    }
   ],
   "source": [
    "testData = {}\n",
    "for rho in [(i-10)/10 for i in range(21)]:\n",
    "    \n",
    "    if np.abs(rho) < 0.000001:\n",
    "        rho = 0.0\n",
    "    print(rho)\n",
    "    data = generateDataset(rho,n=50)\n",
    "    testData[rho] = data"
   ]
  },
  {
   "cell_type": "code",
   "execution_count": 58,
   "metadata": {},
   "outputs": [],
   "source": [
    "with open(\"testDataBand.json\",\"w\") as jsonFile:\n",
    "    jsonFile.write(json.dumps(testData))"
   ]
  },
  {
   "cell_type": "code",
   "execution_count": 40,
   "metadata": {},
   "outputs": [
    {
     "data": {
      "text/plain": [
       "{-1.0: {'data': [{'x': 0.5312458078507701, 'y': -0.5312458041280226},\n",
       "   {'x': -1.9918652194990338, 'y': 1.9918652263489707},\n",
       "   {'x': 0.38816457466891885, 'y': -0.38816457828923234},\n",
       "   {'x': 1.2123965163181545, 'y': -1.2123965322625314},\n",
       "   {'x': 0.3133014140757089, 'y': -0.3133014060700165},\n",
       "   {'x': -1.532007195198052, 'y': 1.5320071890631586},\n",
       "   {'x': -0.001459458190231272, 'y': 0.0014594629211781007},\n",
       "   {'x': 1.6802200080447802, 'y': -1.6802200138616852},\n",
       "   {'x': -0.38083010686671215, 'y': 0.38083012043002795},\n",
       "   {'x': 0.4312851480625071, 'y': -0.43128514789400074},\n",
       "   {'x': 0.6754120171747641, 'y': -0.6754120182693525},\n",
       "   {'x': -0.13817470522518427, 'y': 0.13817469936664212},\n",
       "   {'x': 0.15234081935650493, 'y': -0.15234081709262365},\n",
       "   {'x': -0.3446011852987275, 'y': 0.34460118145935026},\n",
       "   {'x': 0.8037619879641524, 'y': -0.8037619850834858},\n",
       "   {'x': -1.418850842083204, 'y': 1.4188508403034912},\n",
       "   {'x': -0.5613077657653692, 'y': 0.5613077801605034},\n",
       "   {'x': 0.23059566380483132, 'y': -0.23059566504177031},\n",
       "   {'x': 0.25509440924160587, 'y': -0.2550944165653701},\n",
       "   {'x': 0.11442520804821946, 'y': -0.11442521034793358},\n",
       "   {'x': 0.8679461704813874, 'y': -0.8679461909893841},\n",
       "   {'x': 1.2367905748699628, 'y': -1.2367905645249777},\n",
       "   {'x': -1.0914937304692396, 'y': 1.0914937296647047},\n",
       "   {'x': 1.1244428301713152, 'y': -1.1244428309484307},\n",
       "   {'x': -0.35576095157253984, 'y': 0.35576096672472535},\n",
       "   {'x': 0.5934138570704045, 'y': -0.5934138566851431},\n",
       "   {'x': -1.3604774284214858, 'y': 1.3604774382532103},\n",
       "   {'x': -0.10932577612329009, 'y': 0.1093257728092108},\n",
       "   {'x': 1.4135909784050882, 'y': -1.413590982286338},\n",
       "   {'x': -0.9869372182519184, 'y': 0.9869372210268057},\n",
       "   {'x': -0.5307912537050408, 'y': 0.5307912364649099},\n",
       "   {'x': -0.5682711684378079, 'y': 0.5682711658103068},\n",
       "   {'x': -0.5498595414457154, 'y': 0.5498595381023189},\n",
       "   {'x': -1.1493791730730494, 'y': 1.1493791936094189},\n",
       "   {'x': -1.8636922567947876, 'y': 1.863692258016629},\n",
       "   {'x': -0.14794655005386514, 'y': 0.1479465541834591},\n",
       "   {'x': 0.5827368986913366, 'y': -0.5827369035238246},\n",
       "   {'x': -2.286491577770225, 'y': 2.286491565394913},\n",
       "   {'x': 0.9681938346487229, 'y': -0.9681938381003298},\n",
       "   {'x': 0.1750731032464081, 'y': -0.17507310455578057},\n",
       "   {'x': 0.1892959262318422, 'y': -0.18929591419806086},\n",
       "   {'x': -0.05586264793669962, 'y': 0.05586263790887955},\n",
       "   {'x': -0.0989851946350715, 'y': 0.09898518457227917},\n",
       "   {'x': -0.47244311770062186, 'y': 0.4724431186730995},\n",
       "   {'x': -0.03514632539587309, 'y': 0.03514632810123591},\n",
       "   {'x': 1.6518942320192775, 'y': -1.6518942280393427},\n",
       "   {'x': -0.0264759428190037, 'y': 0.02647593276744528},\n",
       "   {'x': 1.1221245425945203, 'y': -1.1221245335150432},\n",
       "   {'x': 0.5304351130531425, 'y': -0.5304351191842966},\n",
       "   {'x': 0.04980017821878149, 'y': -0.04980017912741608},\n",
       "   {'x': -1.0685915561356611, 'y': 1.068591543167392},\n",
       "   {'x': 0.7268720535276643, 'y': -0.7268720658391163},\n",
       "   {'x': -0.45101141647025667, 'y': 0.4510114139187721},\n",
       "   {'x': -0.9266008415184567, 'y': 0.9266008400266104},\n",
       "   {'x': -0.8871298826398325, 'y': 0.8871298917879107},\n",
       "   {'x': 1.2313516730575182, 'y': -1.2313516725104998},\n",
       "   {'x': -0.36978015972054046, 'y': 0.36978016500180033},\n",
       "   {'x': -0.5097082184604392, 'y': 0.5097082246191383},\n",
       "   {'x': 0.008186839688636788, 'y': -0.008186829595660639},\n",
       "   {'x': -0.7867742064896235, 'y': 0.7867741952449093},\n",
       "   {'x': 2.694478027929238, 'y': -2.6944780261560286},\n",
       "   {'x': -0.3992295420067037, 'y': 0.39922955048159536},\n",
       "   {'x': 0.38881065947895777, 'y': -0.3888106466656912},\n",
       "   {'x': 0.8001707634957345, 'y': -0.8001707689213462},\n",
       "   {'x': 0.43658966476864125, 'y': -0.43658966355354517},\n",
       "   {'x': 0.4009492884176655, 'y': -0.4009492810829663},\n",
       "   {'x': 0.08943074055060315, 'y': -0.0894307450937366},\n",
       "   {'x': 0.2556114829843944, 'y': -0.2556114738906932},\n",
       "   {'x': -1.3588450565098444, 'y': 1.3588450487645374},\n",
       "   {'x': 0.4896742044719477, 'y': -0.4896742012558635}],\n",
       "  'N': 70,\n",
       "  'rho': -1.0,\n",
       "  'calcRho': -1.0},\n",
       " -0.9: {'data': [{'x': -0.13120385468115683, 'y': 0.2968399488287369},\n",
       "   {'x': 1.486264927796905, 'y': -1.115950598685406},\n",
       "   {'x': -0.07102519153981994, 'y': 0.6202832398554063},\n",
       "   {'x': -0.5042168724313529, 'y': 0.6672126425321633},\n",
       "   {'x': -0.2269518519617682, 'y': 1.0109222640215965},\n",
       "   {'x': -0.5708635118635176, 'y': 0.7680708063932963},\n",
       "   {'x': -0.8250270581303689, 'y': 0.33340762180115546},\n",
       "   {'x': 0.028783168534647588, 'y': -0.01833018458675676},\n",
       "   {'x': -0.6241575009840534, 'y': 1.2835636983580478},\n",
       "   {'x': 1.4188677087757557, 'y': -1.6406050522256885},\n",
       "   {'x': 0.7346487562602972, 'y': -0.9969884789229048},\n",
       "   {'x': 1.105197879155849, 'y': -1.2011538307974527},\n",
       "   {'x': 1.8088170732839453, 'y': -2.233588668032206},\n",
       "   {'x': 0.10836356209869306, 'y': 0.08073017995661841},\n",
       "   {'x': -0.3885570946993896, 'y': 0.09513398559316552},\n",
       "   {'x': 1.2253933882604897, 'y': -0.9817034764202072},\n",
       "   {'x': 0.3532911949846314, 'y': 0.0017905413935808343},\n",
       "   {'x': -0.2570956694001274, 'y': 0.6603338002812457},\n",
       "   {'x': -0.31910037894190413, 'y': 0.19780287387516474},\n",
       "   {'x': 1.664909950182885, 'y': -1.9565045786439679},\n",
       "   {'x': -0.5529404043703982, 'y': 0.8000362957799458},\n",
       "   {'x': 0.010020549852148689, 'y': 0.6069842608185806},\n",
       "   {'x': -0.11507622849150369, 'y': 0.03658197776088548},\n",
       "   {'x': -0.7495544440930643, 'y': 0.8463234161991574},\n",
       "   {'x': 0.6433673981378024, 'y': -0.3538536346096649},\n",
       "   {'x': -0.017789482418879468, 'y': 0.1759643709957688},\n",
       "   {'x': -0.9509234868161969, 'y': 0.8985705321428499},\n",
       "   {'x': -0.4970485832807698, 'y': 0.6891745193689568},\n",
       "   {'x': -0.8085950623196468, 'y': 0.13328075502166412},\n",
       "   {'x': 0.17812177517855116, 'y': -0.2718787591557175},\n",
       "   {'x': 0.7973413447202863, 'y': -0.8602743986416658},\n",
       "   {'x': -0.30462972396011617, 'y': -0.04708870213856007},\n",
       "   {'x': -1.4622832114997069, 'y': 1.4880905547606145},\n",
       "   {'x': 0.22585682373527238, 'y': -1.06820000479616},\n",
       "   {'x': 0.4048873806429531, 'y': -1.1727581453169078},\n",
       "   {'x': 0.7796813585089257, 'y': -1.262484009140663},\n",
       "   {'x': -0.04254939563966152, 'y': 0.2992919025589948},\n",
       "   {'x': -0.18310388799441046, 'y': 0.881313090925724},\n",
       "   {'x': 0.007125788200247271, 'y': -0.06721172407891274},\n",
       "   {'x': 1.1083285525165307, 'y': -0.7315329992892802},\n",
       "   {'x': 0.4041093846758252, 'y': -0.4805862009174624},\n",
       "   {'x': 0.3138681080904061, 'y': -0.05569591663405727},\n",
       "   {'x': 1.7947965401277177, 'y': -1.1847292126377917},\n",
       "   {'x': -0.2794225295401926, 'y': 0.5861732423286042},\n",
       "   {'x': -0.06897888831523051, 'y': -0.553010141287552},\n",
       "   {'x': 0.2430755395675031, 'y': -0.022932314478184272},\n",
       "   {'x': -1.394738107794055, 'y': 0.7583682968366786},\n",
       "   {'x': 0.7039665462677648, 'y': -1.1084217504214546},\n",
       "   {'x': -1.70836461347538, 'y': 1.6846901485132988},\n",
       "   {'x': -1.2151258235787663, 'y': 0.42917903352207976},\n",
       "   {'x': 1.017144490058868, 'y': -0.29200865630935613},\n",
       "   {'x': 0.12842456033953897, 'y': -0.11165479464083924},\n",
       "   {'x': -1.340971635624886, 'y': 0.08608809892343575},\n",
       "   {'x': 0.19579894500951417, 'y': 0.021053875588757744},\n",
       "   {'x': -0.14880145784609589, 'y': -0.48051827207498554},\n",
       "   {'x': -1.3528106474790276, 'y': 1.582360960626407},\n",
       "   {'x': 0.1196177581011658, 'y': -0.41497019313486405},\n",
       "   {'x': 1.105647951176368, 'y': -1.2314789520635543},\n",
       "   {'x': 0.2256749161149355, 'y': -0.1497460559767814},\n",
       "   {'x': -0.17331100360166452, 'y': 0.12127951600829293},\n",
       "   {'x': -0.36679660275889897, 'y': 0.1658588343850238},\n",
       "   {'x': 0.2996457542156587, 'y': -0.47451761806136006},\n",
       "   {'x': -0.08169981591396558, 'y': -0.010518803814709252},\n",
       "   {'x': 0.24667977967332239, 'y': -0.557793247743193},\n",
       "   {'x': -1.4523183403266042, 'y': 1.3080682083259363},\n",
       "   {'x': -0.6934667899116463, 'y': 0.8886228671640207},\n",
       "   {'x': -2.552524159880653, 'y': 2.1358949530042395},\n",
       "   {'x': 0.18216445377846802, 'y': 0.003953239514251965},\n",
       "   {'x': 1.3240967709444211, 'y': -0.6113575240277623},\n",
       "   {'x': 0.03804323259658489, 'y': 1.0767523457416823}],\n",
       "  'N': 70,\n",
       "  'rho': -0.9,\n",
       "  'calcRho': -0.8745072542061932},\n",
       " -0.8: {'data': [{'x': 0.8146120456981989, 'y': -0.7149465941658004},\n",
       "   {'x': 0.7255698482656325, 'y': 0.36352179339673407},\n",
       "   {'x': -0.2939372129799131, 'y': 0.7704232247472977},\n",
       "   {'x': 0.06269466468466697, 'y': -0.33092703418464037},\n",
       "   {'x': -0.32002043124369467, 'y': 1.6912770889842523},\n",
       "   {'x': -0.1280166518660083, 'y': 0.26475964357993054},\n",
       "   {'x': 0.34664034751965117, 'y': 0.2934970648934634},\n",
       "   {'x': 0.25282613967349776, 'y': 0.6531272359063592},\n",
       "   {'x': 1.1193781178376463, 'y': -0.6361254802220953},\n",
       "   {'x': 0.04511242425167336, 'y': 0.7788855720643215},\n",
       "   {'x': -0.2055400186833531, 'y': -0.29613304092565457},\n",
       "   {'x': -1.8110113235468543, 'y': 2.310371590719709},\n",
       "   {'x': -1.1635573818310256, 'y': 1.3345862693830868},\n",
       "   {'x': -1.3372512535384191, 'y': 1.88489710366041},\n",
       "   {'x': 0.054759484973820494, 'y': -0.27727099008734685},\n",
       "   {'x': -0.4630031740832476, 'y': 0.8869369930635009},\n",
       "   {'x': -0.21248341916345548, 'y': -0.34706563751459635},\n",
       "   {'x': 0.43715364150434627, 'y': 0.020965154690812726},\n",
       "   {'x': -0.6478102430487048, 'y': 0.5364115445809367},\n",
       "   {'x': 0.4525802837489244, 'y': -0.45701866424606113},\n",
       "   {'x': -2.923961889717109, 'y': 1.7997583316408987},\n",
       "   {'x': 0.7493501713833677, 'y': -0.4173142512986158},\n",
       "   {'x': 0.32364466364106675, 'y': -0.5763014467029941},\n",
       "   {'x': -1.518142595265295, 'y': 1.2403110468627594},\n",
       "   {'x': 0.7166762341685047, 'y': -1.3493749071576076},\n",
       "   {'x': 2.0463072589698568, 'y': -2.8949935680792738},\n",
       "   {'x': 0.25657711150122, 'y': -0.8730795883680189},\n",
       "   {'x': -2.1948820907618245, 'y': 0.823717779675649},\n",
       "   {'x': -1.214682395258937, 'y': -0.9365446775027759},\n",
       "   {'x': -0.4966915673138426, 'y': 1.1393056964485937},\n",
       "   {'x': 0.4607495633215493, 'y': -1.98615342534009},\n",
       "   {'x': 2.110482467313492, 'y': -2.255535235639014},\n",
       "   {'x': 0.6612081415156423, 'y': -0.1949121120427466},\n",
       "   {'x': -1.7313359782854942, 'y': 2.1057668227994806},\n",
       "   {'x': -1.4774927876163357, 'y': 0.8870850540742661},\n",
       "   {'x': 0.6054713112069017, 'y': -0.7163713935794476},\n",
       "   {'x': 0.9699434953064412, 'y': -0.5407324455557445},\n",
       "   {'x': -0.06964758936130357, 'y': -0.14744759312560202},\n",
       "   {'x': -1.2765232843574317, 'y': 0.7710980215590566},\n",
       "   {'x': -0.3803357096436981, 'y': 0.6773281112384535},\n",
       "   {'x': 0.8129715141505396, 'y': -0.04403109619789419},\n",
       "   {'x': 0.6982142399621061, 'y': -2.6957956225825144},\n",
       "   {'x': -0.9356115785844255, 'y': 0.6407018242158178},\n",
       "   {'x': -0.5478434045541026, 'y': 0.23271901169549286},\n",
       "   {'x': 1.5476413273692218, 'y': -1.3148978478178504},\n",
       "   {'x': -1.3468587876826994, 'y': 1.906166332314828},\n",
       "   {'x': 0.28597532511245166, 'y': -0.30612890815776844},\n",
       "   {'x': 1.400736973950944, 'y': -1.294618626228632},\n",
       "   {'x': 0.7478597768416455, 'y': -1.0601265474436015},\n",
       "   {'x': -1.6475212866809843, 'y': 0.033044639311586244},\n",
       "   {'x': -0.671752487013122, 'y': -0.11172788047134641},\n",
       "   {'x': 0.7246398640505598, 'y': -0.44869310568375614},\n",
       "   {'x': 0.6810516193754175, 'y': -1.0368371950533892},\n",
       "   {'x': -0.9320781545231254, 'y': 0.499504527798414},\n",
       "   {'x': 0.7999988389744384, 'y': -0.3202080425179174},\n",
       "   {'x': -0.5993230427856857, 'y': 0.8686489445396557},\n",
       "   {'x': -1.1409961135353235, 'y': 0.8877508872877615},\n",
       "   {'x': 0.9282012411827723, 'y': -0.8185437485870759},\n",
       "   {'x': -0.1287901082075087, 'y': 0.5264000411679335},\n",
       "   {'x': -1.6309019257582076, 'y': 0.9507762317848616},\n",
       "   {'x': 1.0453479165576693, 'y': 0.5192756593944214},\n",
       "   {'x': 0.950502552328458, 'y': -0.31622780215055185},\n",
       "   {'x': 1.865986788452603, 'y': -0.7750901187384194},\n",
       "   {'x': 1.4920476333923776, 'y': -1.763827120811013},\n",
       "   {'x': -0.2699845311678718, 'y': -0.06431943684550184},\n",
       "   {'x': 0.900112144142379, 'y': -0.6758697548238857},\n",
       "   {'x': 0.7940140801625006, 'y': 0.41544479647495036},\n",
       "   {'x': 0.6728033879873556, 'y': -0.186716193508996},\n",
       "   {'x': 0.5695575549520602, 'y': 0.2328878980286011},\n",
       "   {'x': -0.41141177737259266, 'y': 0.2345551953739452}],\n",
       "  'N': 70,\n",
       "  'rho': -0.8,\n",
       "  'calcRho': -0.7614503962135826},\n",
       " -0.7: {'data': [{'x': 0.22361780668990852, 'y': 0.5852435643706038},\n",
       "   {'x': 1.5123910830997724, 'y': -0.943629470313288},\n",
       "   {'x': 0.36137054780119143, 'y': 0.2885694618559781},\n",
       "   {'x': 0.950916836576281, 'y': -0.5027752859475925},\n",
       "   {'x': 1.4428250278447718, 'y': -1.6097693345811663},\n",
       "   {'x': -1.3674582031145195, 'y': 0.9688665843902721},\n",
       "   {'x': 0.3368423146682083, 'y': 0.3018095439253584},\n",
       "   {'x': -0.5703142304921767, 'y': -0.8826088918296282},\n",
       "   {'x': -0.091658433459464, 'y': 0.32181327501026347},\n",
       "   {'x': 0.243701407345459, 'y': -0.8685722943181033},\n",
       "   {'x': -0.09509949891512601, 'y': -0.7208707523873283},\n",
       "   {'x': 0.7417801794679301, 'y': 0.5663556345528034},\n",
       "   {'x': 0.2087272917008965, 'y': -0.7230323197966337},\n",
       "   {'x': -1.3510760965796595, 'y': 0.5608098756726356},\n",
       "   {'x': 0.6437908835357641, 'y': -1.0751777194095182},\n",
       "   {'x': -0.17951972577387815, 'y': 0.005021593810766705},\n",
       "   {'x': 0.593763752688074, 'y': 0.20391741770740043},\n",
       "   {'x': 1.129873854802883, 'y': -0.8448162651828584},\n",
       "   {'x': -0.15718925144128015, 'y': 0.4299901098596244},\n",
       "   {'x': -0.9198810431369617, 'y': 0.6081401263654551},\n",
       "   {'x': 0.10016765442063871, 'y': 0.1986964385321246},\n",
       "   {'x': 0.11330693081009996, 'y': 0.07004909355294762},\n",
       "   {'x': 0.3165775544628119, 'y': 0.3634841253185666},\n",
       "   {'x': -1.5460275574716502, 'y': 0.6701554368457843},\n",
       "   {'x': -0.35525816014242867, 'y': 0.42193638480755247},\n",
       "   {'x': 1.2050435753731077, 'y': -0.5694660939197398},\n",
       "   {'x': -0.5425753573477085, 'y': 0.506813373158828},\n",
       "   {'x': -0.44630279761186603, 'y': 0.990875550959335},\n",
       "   {'x': -0.28517823621253385, 'y': 0.716719240805198},\n",
       "   {'x': -1.442413370443841, 'y': 0.35552599238798055},\n",
       "   {'x': 1.9185320792781713, 'y': -1.8463099536144227},\n",
       "   {'x': 0.46555901088013113, 'y': -0.2370556941098387},\n",
       "   {'x': 0.6499373187589078, 'y': -0.0962267631038375},\n",
       "   {'x': 0.862289137542806, 'y': 0.40823166643642916},\n",
       "   {'x': -1.0631910877172825, 'y': 1.3827815255605092},\n",
       "   {'x': -0.33205588276837245, 'y': 0.1349288771123589},\n",
       "   {'x': -0.115824352998813, 'y': 0.1366742248309852},\n",
       "   {'x': -0.4697257516661711, 'y': 0.7632861430729986},\n",
       "   {'x': -0.5132208645728966, 'y': 1.0286444438339744},\n",
       "   {'x': -0.234959018568327, 'y': -0.4214214684312212},\n",
       "   {'x': -0.174952090851739, 'y': -0.37510364845785577},\n",
       "   {'x': 0.824441908637641, 'y': -0.7440819628142722},\n",
       "   {'x': 0.45616050482391596, 'y': 0.08157518959097186},\n",
       "   {'x': -1.1154504052578387, 'y': 0.8937546111998469},\n",
       "   {'x': 0.7182375664199652, 'y': 1.0012918369397212},\n",
       "   {'x': -0.2914613270708824, 'y': 0.15029938686212882},\n",
       "   {'x': -0.4943936642617582, 'y': 0.4806517292615197},\n",
       "   {'x': -1.0877616207248086, 'y': 0.4244025731447228},\n",
       "   {'x': 0.5701794833744598, 'y': -1.9097920366413892},\n",
       "   {'x': 0.6850990419166485, 'y': -1.9574946604500814},\n",
       "   {'x': -2.1322203082632445, 'y': 1.482236816889979},\n",
       "   {'x': -0.806456622694709, 'y': -1.0000043773653646},\n",
       "   {'x': -0.09349849417841127, 'y': -0.2518884076991802},\n",
       "   {'x': -0.5547071488862, 'y': 1.4297380904195336},\n",
       "   {'x': 1.437050278295429, 'y': -0.23649038068241704},\n",
       "   {'x': -0.899054522452019, 'y': -0.09474182205239663},\n",
       "   {'x': 0.7481287860253679, 'y': -0.7853668565742843},\n",
       "   {'x': -0.5572763713956819, 'y': 1.3817615803431984},\n",
       "   {'x': 0.21423051309214527, 'y': 0.44179023268002554},\n",
       "   {'x': -0.5251004608690003, 'y': 0.008105657783480363},\n",
       "   {'x': -0.18160806057008413, 'y': -0.6391683915167398},\n",
       "   {'x': 0.3336439701071079, 'y': -0.21791146279598617},\n",
       "   {'x': 1.0982124702775324, 'y': -0.33302954423264836},\n",
       "   {'x': -0.22490117242855362, 'y': 0.35240365865044526},\n",
       "   {'x': -0.5652504141617585, 'y': 0.6984398657951147},\n",
       "   {'x': 0.9786775183839994, 'y': -0.597365375661296},\n",
       "   {'x': -1.3865815214454087, 'y': 0.6175703882127566},\n",
       "   {'x': 1.0625752628879344, 'y': -1.6506071186386713},\n",
       "   {'x': 0.7572270188853073, 'y': -0.7775804734944135},\n",
       "   {'x': -0.7352754449282154, 'y': 0.47899750351199377}],\n",
       "  'N': 70,\n",
       "  'rho': -0.7,\n",
       "  'calcRho': -0.6395320723915444},\n",
       " -0.6: {'data': [{'x': -0.5054704820505833, 'y': 0.8013547342871564},\n",
       "   {'x': -1.1752749907358053, 'y': 1.078221441984449},\n",
       "   {'x': 1.1953230326281281, 'y': -1.0045580254333293},\n",
       "   {'x': 1.3159319639691098, 'y': 0.3387803192925301},\n",
       "   {'x': -1.3569424335519422, 'y': 0.9111459070242366},\n",
       "   {'x': 0.17881054189383974, 'y': -0.3673865673257798},\n",
       "   {'x': -0.8649729169550702, 'y': -0.3052037999881743},\n",
       "   {'x': -0.11478419988306622, 'y': -0.45012882727870157},\n",
       "   {'x': -0.7275542985199293, 'y': -0.0980840556238619},\n",
       "   {'x': -1.1550966413948176, 'y': 2.0296962026973215},\n",
       "   {'x': 0.009272715259458367, 'y': 0.5838509036483813},\n",
       "   {'x': 0.283145039025967, 'y': 0.5447759249100724},\n",
       "   {'x': 1.4925505415012426, 'y': -0.8769253989740181},\n",
       "   {'x': -0.26018250329220055, 'y': -0.04241559608059227},\n",
       "   {'x': 0.05188008363483874, 'y': -0.6399711177812494},\n",
       "   {'x': -1.3280199542902036, 'y': -1.9050677170952393},\n",
       "   {'x': 1.518882725870554, 'y': -1.684540089873431},\n",
       "   {'x': 0.4152186826969826, 'y': -1.2733718893954136},\n",
       "   {'x': -0.8139719284027723, 'y': 0.24503917053058516},\n",
       "   {'x': -1.4116130495708321, 'y': -0.139603057196588},\n",
       "   {'x': 0.29593710698937103, 'y': -0.6755208439621171},\n",
       "   {'x': -0.16840042108441466, 'y': -0.2530872977237098},\n",
       "   {'x': 1.1173621079835991, 'y': -0.4143022506815435},\n",
       "   {'x': 1.0120375256384895, 'y': -0.20528329260504674},\n",
       "   {'x': 0.20870350353992012, 'y': 0.121017705456284},\n",
       "   {'x': 1.3698239673856163, 'y': -1.1313889561266088},\n",
       "   {'x': 1.727031322417667, 'y': -1.915542366805592},\n",
       "   {'x': -0.9663484916437995, 'y': 2.189660674483036},\n",
       "   {'x': 1.1024948759223554, 'y': 0.46134230888858246},\n",
       "   {'x': 0.18392829981077746, 'y': 0.45976601025432856},\n",
       "   {'x': 1.0143352565792343, 'y': -0.826595939300757},\n",
       "   {'x': 0.5242040673993315, 'y': -0.04958406797363972},\n",
       "   {'x': -0.3175445124144617, 'y': -0.4280485295842635},\n",
       "   {'x': -0.04972734825799408, 'y': -0.27023536282165445},\n",
       "   {'x': 0.8300584922503362, 'y': 1.0020050794719075},\n",
       "   {'x': 0.11208814626602119, 'y': -1.0004036064512802},\n",
       "   {'x': 0.3937276452472969, 'y': -0.7963054879107543},\n",
       "   {'x': -0.657434225856429, 'y': 0.17819930581236687},\n",
       "   {'x': 0.9391952448210297, 'y': -0.8211971298407992},\n",
       "   {'x': 0.15330677725602188, 'y': 0.0330593899261762},\n",
       "   {'x': -0.17939189089724764, 'y': 0.5923410362625549},\n",
       "   {'x': 0.08938433631982716, 'y': 0.7155433499288132},\n",
       "   {'x': 0.5313846279546911, 'y': 0.48756006433192184},\n",
       "   {'x': -0.06928707904971472, 'y': 1.12769450927832},\n",
       "   {'x': -1.089499175959471, 'y': 1.9474724106216006},\n",
       "   {'x': -0.21999124530218347, 'y': -1.7012008054728205},\n",
       "   {'x': -1.3569458475441947, 'y': -0.37564714793042436},\n",
       "   {'x': 0.8788977966387284, 'y': -1.1085897988968387},\n",
       "   {'x': 0.4914240483024865, 'y': 0.6654980033801318},\n",
       "   {'x': -0.6483968548397937, 'y': 0.5647707585390548},\n",
       "   {'x': 0.3305873526178838, 'y': -0.1709310812795808},\n",
       "   {'x': -0.8575640887238855, 'y': -0.37481132920860166},\n",
       "   {'x': -0.007940548713491735, 'y': -0.2527041018728908},\n",
       "   {'x': 1.1686249107822677, 'y': -1.1614270943990856},\n",
       "   {'x': 0.08864815874457195, 'y': 0.01888461267227419},\n",
       "   {'x': 0.8140960633648844, 'y': 0.4781881598292404},\n",
       "   {'x': -0.29160298955904257, 'y': 1.3644674344810444},\n",
       "   {'x': -0.21416444983064353, 'y': 0.215990164777896},\n",
       "   {'x': 0.09649939383048049, 'y': 0.22275343235975814},\n",
       "   {'x': 1.5429639771500794, 'y': -0.49678856097718244},\n",
       "   {'x': -1.7437852457477125, 'y': 0.3981586847440582},\n",
       "   {'x': 0.0011465085917130944, 'y': -0.24333180876520338},\n",
       "   {'x': -2.306671795334855, 'y': 1.5012416038328158},\n",
       "   {'x': -0.477107765560934, 'y': 0.5765458635002434},\n",
       "   {'x': -0.21563388044865278, 'y': 0.17584214678430882},\n",
       "   {'x': -0.259575627986205, 'y': -0.3987582015474733},\n",
       "   {'x': 0.8244042608060851, 'y': -0.7801405623278512},\n",
       "   {'x': -0.8680088837521669, 'y': 0.34392313616532727},\n",
       "   {'x': -1.58650772505764, 'y': 2.1112179553866013},\n",
       "   {'x': -0.03789760887873287, 'y': 0.1530733609687191}],\n",
       "  'N': 70,\n",
       "  'rho': -0.6,\n",
       "  'calcRho': -0.5107649457885026},\n",
       " -0.5: {'data': [{'x': -0.10169568895234371, 'y': -2.131866203505789},\n",
       "   {'x': -1.0890596947265487, 'y': 0.963758918781408},\n",
       "   {'x': 0.22876224761196828, 'y': 0.6251926968796739},\n",
       "   {'x': -0.9972133144567914, 'y': 0.7462549152102586},\n",
       "   {'x': 0.4068145521020202, 'y': 0.3351244014783692},\n",
       "   {'x': -1.2113111838018884, 'y': 2.387977779666031},\n",
       "   {'x': 0.03007305826620743, 'y': -1.528016504083239},\n",
       "   {'x': 0.028847774330710396, 'y': 1.7290475871632094},\n",
       "   {'x': 0.5748500562239076, 'y': -0.2568962830158019},\n",
       "   {'x': 0.941983430450329, 'y': -0.25321651383295074},\n",
       "   {'x': 0.34571100571973024, 'y': -0.6794074527145207},\n",
       "   {'x': -1.683948988332509, 'y': 1.8803750721047443},\n",
       "   {'x': 0.42324552245603997, 'y': -0.6804732126342224},\n",
       "   {'x': 0.5396238193123009, 'y': 0.3766248603562455},\n",
       "   {'x': 0.5095724953638996, 'y': -0.5614937402196932},\n",
       "   {'x': 0.8385257403798829, 'y': -0.7208275451640705},\n",
       "   {'x': 0.4435089407226849, 'y': 0.7366809184188182},\n",
       "   {'x': 1.4932742116008244, 'y': -1.1267828217895854},\n",
       "   {'x': 0.601460945493687, 'y': -1.4514160468827157},\n",
       "   {'x': 0.3049719108155762, 'y': 0.555899722811036},\n",
       "   {'x': 0.2090968032165631, 'y': -0.5776203148937471},\n",
       "   {'x': -0.2834941784903672, 'y': 1.8731654107964946},\n",
       "   {'x': -0.7144232751701893, 'y': -0.6329471257398506},\n",
       "   {'x': -0.550281010589509, 'y': 1.0154487304940318},\n",
       "   {'x': 1.591226861071208, 'y': -1.3063804086918014},\n",
       "   {'x': -2.0250771769871925, 'y': 0.5492849086476507},\n",
       "   {'x': 0.8790367110793726, 'y': -0.267590031569888},\n",
       "   {'x': 1.3007859082871887, 'y': -0.4876049076367323},\n",
       "   {'x': 1.2975988168735177, 'y': -0.6569906171275475},\n",
       "   {'x': -0.7582239454752792, 'y': -0.48206072064851674},\n",
       "   {'x': -0.2798903239941466, 'y': 0.04045710380154575},\n",
       "   {'x': 0.8062065150792972, 'y': 0.2448619754610111},\n",
       "   {'x': -0.11106344161103268, 'y': -0.035382469482012575},\n",
       "   {'x': 0.10908474445858779, 'y': 0.7051753120760071},\n",
       "   {'x': -0.8879763510659047, 'y': 1.5984327030514853},\n",
       "   {'x': -0.3080717144669433, 'y': 0.9907598137109523},\n",
       "   {'x': 0.10936265817842461, 'y': -1.9774278049555305},\n",
       "   {'x': 0.6109392900098259, 'y': -0.11502024408574649},\n",
       "   {'x': -0.19769458758091718, 'y': -0.4620753175447034},\n",
       "   {'x': -0.6153067116725346, 'y': 0.41635149012740796},\n",
       "   {'x': 0.8103813480816926, 'y': -0.7818375594959494},\n",
       "   {'x': 0.024021841661546625, 'y': -0.00830055810418278},\n",
       "   {'x': -1.605354082169352, 'y': 0.2555941141522989},\n",
       "   {'x': 0.4169888442394778, 'y': -0.4062062126540668},\n",
       "   {'x': 0.922014888829372, 'y': -1.8763470855805593},\n",
       "   {'x': -0.5887412486014731, 'y': -0.04023566377561471},\n",
       "   {'x': -0.21018461431635235, 'y': 0.3803278324302995},\n",
       "   {'x': -0.3487718725756043, 'y': 0.2739619719163197},\n",
       "   {'x': -0.17520371996285872, 'y': -0.3181588797639155},\n",
       "   {'x': -0.9353845511540249, 'y': -1.3602852932850016},\n",
       "   {'x': -1.9097989062883718, 'y': 0.7003707019573878},\n",
       "   {'x': -0.9045241102858601, 'y': 0.9599816591273388},\n",
       "   {'x': 0.7071993433869941, 'y': -0.8317490398650987},\n",
       "   {'x': 0.8475352285688642, 'y': 1.6956634652817482},\n",
       "   {'x': -0.3801202603973465, 'y': 0.08046368770554538},\n",
       "   {'x': -0.27926104049960815, 'y': -0.9493451253222702},\n",
       "   {'x': -0.9693822013486656, 'y': -0.5295913736585665},\n",
       "   {'x': -0.0072367869827697495, 'y': -0.7270238103778505},\n",
       "   {'x': 0.5345606308102937, 'y': 1.752846368962221},\n",
       "   {'x': 0.016558013962829465, 'y': 0.6499568357724801},\n",
       "   {'x': -0.559355310725298, 'y': -0.22118298168019315},\n",
       "   {'x': 0.4118775371745074, 'y': -0.6791388184132711},\n",
       "   {'x': 0.051266809985854506, 'y': -0.21602137979888555},\n",
       "   {'x': -0.08275289238297551, 'y': 0.0823148130423629},\n",
       "   {'x': 0.5226750660435666, 'y': 1.812255523362685},\n",
       "   {'x': 1.1566711045706144, 'y': 0.129108707264231},\n",
       "   {'x': 0.2527198316937597, 'y': -0.25866562488499945},\n",
       "   {'x': -0.6376950199050105, 'y': 0.5118517690307289},\n",
       "   {'x': 0.6137576263049906, 'y': 0.26394888717018195},\n",
       "   {'x': -0.5042939294484503, 'y': -1.7239349653331202}],\n",
       "  'N': 70,\n",
       "  'rho': -0.5,\n",
       "  'calcRho': -0.33405634421495245},\n",
       " -0.4: {'data': [{'x': -0.27180326864695853, 'y': 0.015268382701685745},\n",
       "   {'x': 2.4246593482221535, 'y': -1.4907427315603694},\n",
       "   {'x': 0.2811022546623443, 'y': -1.2272130178265146},\n",
       "   {'x': 0.7595802517375203, 'y': -0.3514544330638853},\n",
       "   {'x': 0.19446835016748673, 'y': 0.5161000772365482},\n",
       "   {'x': 0.5461204867637357, 'y': 0.2902796568221458},\n",
       "   {'x': 0.2498347424844883, 'y': -1.497531609623619},\n",
       "   {'x': 0.07081000557833524, 'y': 1.1592516646127802},\n",
       "   {'x': 0.9055188632524915, 'y': -1.5476645699810077},\n",
       "   {'x': -0.6397486916984388, 'y': -0.019909639685624803},\n",
       "   {'x': -1.2646797670771037, 'y': -1.0251044579826005},\n",
       "   {'x': 0.9830638233316714, 'y': 0.3029080215486649},\n",
       "   {'x': 0.48145943403263497, 'y': 0.14070576086967834},\n",
       "   {'x': 0.3394221653403751, 'y': 0.8412758623722726},\n",
       "   {'x': -0.1374403732436627, 'y': -0.5017474220962975},\n",
       "   {'x': -0.03540325832655804, 'y': -1.8353576268445138},\n",
       "   {'x': 1.2796215856183895, 'y': -0.4880131003094087},\n",
       "   {'x': -1.9273667761771076, 'y': 2.1923489987424585},\n",
       "   {'x': 0.23977208881836132, 'y': 0.40355927028195165},\n",
       "   {'x': -0.28990253300611946, 'y': -0.35596034764154244},\n",
       "   {'x': -1.3286927439250729, 'y': 0.002731474672840583},\n",
       "   {'x': 0.9318592995142164, 'y': -0.3969740173399716},\n",
       "   {'x': -1.8726711571897785, 'y': 0.27066390186260164},\n",
       "   {'x': 1.2347090352410568, 'y': -0.6852143569776501},\n",
       "   {'x': -0.43608553282454005, 'y': -0.7809470696589879},\n",
       "   {'x': -1.9967355341685082, 'y': 1.261592536079199},\n",
       "   {'x': -0.01179630088221038, 'y': 0.8543873550191672},\n",
       "   {'x': 0.5776878690698684, 'y': -0.647834907415149},\n",
       "   {'x': 0.7198381024133111, 'y': -0.6162742304804186},\n",
       "   {'x': -0.9874745438770568, 'y': 0.28215513878756904},\n",
       "   {'x': -0.8276123581441056, 'y': 0.8987238841860827},\n",
       "   {'x': -0.29369766340507103, 'y': -0.0435534903997897},\n",
       "   {'x': 1.2233131003579654, 'y': 1.6223472449452405},\n",
       "   {'x': -0.12502924596412315, 'y': -1.260347244325378},\n",
       "   {'x': 0.3454863445753817, 'y': 1.1034326863627422},\n",
       "   {'x': 0.9761223849062785, 'y': -0.0993752277469485},\n",
       "   {'x': 0.5744243211805369, 'y': -0.6017592899104606},\n",
       "   {'x': 0.34222306980651435, 'y': -0.7498802058310285},\n",
       "   {'x': -1.3253631607218401, 'y': 1.9544305435268443},\n",
       "   {'x': 1.235466686825064, 'y': -0.9675223709820088},\n",
       "   {'x': -0.5541100975411221, 'y': 0.4411406053058233},\n",
       "   {'x': 0.7289814770541186, 'y': -0.31959609241508474},\n",
       "   {'x': -0.7847028320093263, 'y': -0.40519542784934165},\n",
       "   {'x': -0.9942172854050474, 'y': 0.5882564558532337},\n",
       "   {'x': 1.38515125664459, 'y': 0.012669981507004668},\n",
       "   {'x': -2.4016343426435194, 'y': 0.6466624350482628},\n",
       "   {'x': -0.43344378826365004, 'y': 1.18226943825619},\n",
       "   {'x': 0.2945104146923579, 'y': -0.16191742480055377},\n",
       "   {'x': -0.0030272921935340577, 'y': 0.07136532755439168},\n",
       "   {'x': 0.9992473464794585, 'y': -1.3596412794346604},\n",
       "   {'x': 0.994307067004626, 'y': -0.012928244828246106},\n",
       "   {'x': -0.9142837037741832, 'y': 0.9802631323781061},\n",
       "   {'x': -0.18425489630395472, 'y': -0.47587428306571905},\n",
       "   {'x': 0.4086954508357828, 'y': -0.03579052542400325},\n",
       "   {'x': 0.2971576029814827, 'y': -0.8080209577371872},\n",
       "   {'x': -0.06121230888018918, 'y': -0.8072991201840206},\n",
       "   {'x': 0.2211868685539777, 'y': -0.9419544376464015},\n",
       "   {'x': 0.08441672578973126, 'y': 0.7573556952813818},\n",
       "   {'x': -0.00565449121223836, 'y': -0.9792099930836472},\n",
       "   {'x': -1.0921965931172208, 'y': 0.08184835308631629},\n",
       "   {'x': 1.6195427435688896, 'y': -0.7464778442694372},\n",
       "   {'x': 0.42411551475928816, 'y': -0.2758995653446336},\n",
       "   {'x': 0.24986509283517808, 'y': -1.7128167918013681},\n",
       "   {'x': -0.9307059000626404, 'y': 1.2878654522835482},\n",
       "   {'x': 0.9832553147120121, 'y': -0.973789906651298},\n",
       "   {'x': -2.315940664690014, 'y': 2.9132966280532107},\n",
       "   {'x': 0.1859114053475924, 'y': 1.2210173849648454},\n",
       "   {'x': 0.19836953485964381, 'y': -0.539618763099205},\n",
       "   {'x': -1.0158665700423026, 'y': 1.5515680119145698},\n",
       "   {'x': -0.5285237546017126, 'y': 1.8986706632006245}],\n",
       "  'N': 70,\n",
       "  'rho': -0.4,\n",
       "  'calcRho': -0.5193026571140255},\n",
       " -0.3: {'data': [{'x': 0.09252002561308192, 'y': -0.093302761157596},\n",
       "   {'x': 0.6283697363549013, 'y': -0.49823295318845107},\n",
       "   {'x': 0.17759238724896087, 'y': 0.6252187185906328},\n",
       "   {'x': 0.3273285936929693, 'y': -1.5991004003997205},\n",
       "   {'x': -1.0233893409503738, 'y': -0.027014135628001312},\n",
       "   {'x': -0.49934413100724573, 'y': 0.8951765037060448},\n",
       "   {'x': -1.4285495209687002, 'y': 1.7018757064586962},\n",
       "   {'x': -1.1562274578607314, 'y': -0.1761448100999179},\n",
       "   {'x': 1.3443695323516018, 'y': 0.5957838290789579},\n",
       "   {'x': 0.869092898200247, 'y': -2.1683227211802043},\n",
       "   {'x': 0.11554259193380412, 'y': -0.10357678163025041},\n",
       "   {'x': -0.2850447116076076, 'y': -2.123616630071667},\n",
       "   {'x': -0.12993363313033823, 'y': 0.8377021085401306},\n",
       "   {'x': -0.3359530570354312, 'y': -0.045731957505530094},\n",
       "   {'x': -1.4869996323879515, 'y': 0.7735923419689603},\n",
       "   {'x': 0.8161501800862849, 'y': 0.12672741794512477},\n",
       "   {'x': 0.12804181657984193, 'y': 0.3699100072133692},\n",
       "   {'x': 0.018061058701213384, 'y': 0.667497656516832},\n",
       "   {'x': 0.6370313813057517, 'y': 0.4819542172233873},\n",
       "   {'x': -0.3844132231985369, 'y': 1.252275994123941},\n",
       "   {'x': 0.6623327136246594, 'y': -0.03743248427393159},\n",
       "   {'x': -1.1784947410865958, 'y': -0.08037814073115618},\n",
       "   {'x': -1.3154506117140974, 'y': 2.7711499251764526},\n",
       "   {'x': 1.5488364323375134, 'y': -0.4547891822454902},\n",
       "   {'x': 0.9402139903342464, 'y': -0.32432748224178953},\n",
       "   {'x': 0.11969418429012224, 'y': 0.7957555861948413},\n",
       "   {'x': -1.5516650135278696, 'y': -1.3453820675841235},\n",
       "   {'x': -0.7232666623659529, 'y': -0.037608068540832595},\n",
       "   {'x': -2.0167527239783993, 'y': -1.3541164455970869},\n",
       "   {'x': 0.7104593838595142, 'y': -1.288740876254963},\n",
       "   {'x': 0.4379661951576672, 'y': -1.0319729164834994},\n",
       "   {'x': 0.6557182233012757, 'y': 1.2678845719844216},\n",
       "   {'x': -0.3020889409034805, 'y': -1.4020176685644894},\n",
       "   {'x': -0.8283042880752298, 'y': 0.8430319074652441},\n",
       "   {'x': -2.013785405782417, 'y': 1.5386037309721867},\n",
       "   {'x': -0.0726132200936993, 'y': -1.9798231508117943},\n",
       "   {'x': -0.009620701432161982, 'y': -0.017252882706116968},\n",
       "   {'x': 1.290312793209423, 'y': -0.6334060863966486},\n",
       "   {'x': 0.018701008957625775, 'y': -0.21286555787516068},\n",
       "   {'x': -0.40666499026750874, 'y': 0.3160466387936788},\n",
       "   {'x': 0.08001752680380153, 'y': -0.8678913559473931},\n",
       "   {'x': -0.45765299240529, 'y': 0.5169535174454551},\n",
       "   {'x': -1.4701446818861323, 'y': 1.0229637861263787},\n",
       "   {'x': -0.04340679520310606, 'y': -0.7822340817734434},\n",
       "   {'x': -0.040857441076427525, 'y': 0.9843686959481985},\n",
       "   {'x': 1.328698336242848, 'y': -0.5167149945321778},\n",
       "   {'x': -1.3318362569190993, 'y': 0.6519691032011254},\n",
       "   {'x': 0.45513277613510783, 'y': 1.575860722580079},\n",
       "   {'x': -0.7393403093820514, 'y': -2.136679446954848},\n",
       "   {'x': -1.126080526237729, 'y': 0.28731566925696683},\n",
       "   {'x': 1.1107603594818085, 'y': -0.6681633750429596},\n",
       "   {'x': 1.9836747448505234, 'y': 0.47038835872625556},\n",
       "   {'x': 1.070669944140103, 'y': -1.1629175607270377},\n",
       "   {'x': -0.7857159929148603, 'y': 1.8961730461180246},\n",
       "   {'x': -1.2442547036414973, 'y': 0.41256847479403086},\n",
       "   {'x': -0.05244691572648119, 'y': -1.5832747020181976},\n",
       "   {'x': 0.7970847470531546, 'y': -1.6473051673776473},\n",
       "   {'x': -0.05474267055936566, 'y': -1.4003422737776092},\n",
       "   {'x': 2.7011357626340766, 'y': 0.21846346657572308},\n",
       "   {'x': 1.9310650849340878, 'y': -0.8806429186852813},\n",
       "   {'x': 1.0301495174297535, 'y': 0.6924608008475579},\n",
       "   {'x': -0.01873160380185923, 'y': 1.3785788901663434},\n",
       "   {'x': 1.4063896606117927, 'y': 1.3082977192805918},\n",
       "   {'x': -0.18355127856798867, 'y': 0.2866246627054207},\n",
       "   {'x': 1.7227428654618697, 'y': -0.4969758287463792},\n",
       "   {'x': 0.9307866789188477, 'y': 0.29971558715522134},\n",
       "   {'x': -0.03550461599564078, 'y': 0.6373195870395569},\n",
       "   {'x': -2.6804355043570434, 'y': 1.0020464032160525},\n",
       "   {'x': -0.11243328319946277, 'y': 0.10588985464525649},\n",
       "   {'x': -0.5609455525901141, 'y': -0.42984734102974875}],\n",
       "  'N': 70,\n",
       "  'rho': -0.3,\n",
       "  'calcRho': -0.21898645389937393},\n",
       " -0.2: {'data': [{'x': 0.14598869767803033, 'y': -0.2220463115147191},\n",
       "   {'x': 0.8283915283611567, 'y': -0.875397448858439},\n",
       "   {'x': 0.5323295827190623, 'y': -1.856361351750042},\n",
       "   {'x': -1.862834646105908, 'y': 1.06994174967059},\n",
       "   {'x': -1.3222848603676534, 'y': -1.3672630056555228},\n",
       "   {'x': 0.36064044564762554, 'y': 1.0086655879454516},\n",
       "   {'x': -1.398394432253909, 'y': 0.10947726423125535},\n",
       "   {'x': 1.1796297139583196, 'y': 1.336677041030649},\n",
       "   {'x': 1.381184572272338, 'y': 0.46424673058658605},\n",
       "   {'x': -2.512554028328657, 'y': 0.11645865058139203},\n",
       "   {'x': 0.7630589440445384, 'y': -0.472120120843036},\n",
       "   {'x': -1.186502820884548, 'y': -0.15416491115731956},\n",
       "   {'x': -0.41632412036439104, 'y': -0.28136137863795985},\n",
       "   {'x': 1.0016344910821198, 'y': 1.2560156379489658},\n",
       "   {'x': 0.3001906651598174, 'y': 1.5440150708115652},\n",
       "   {'x': -0.681305618527672, 'y': -2.1676682943199417},\n",
       "   {'x': 0.457384882526624, 'y': 0.4390194288662598},\n",
       "   {'x': -0.4708083493842713, 'y': -0.30968492848787116},\n",
       "   {'x': -2.0436448082830836, 'y': 1.580276798348124},\n",
       "   {'x': 0.24583558746257497, 'y': -1.1028573121636098},\n",
       "   {'x': -0.08420041153286317, 'y': -0.16569834230782077},\n",
       "   {'x': -1.7473038529903053, 'y': -0.896986785209494},\n",
       "   {'x': 1.2962846720379193, 'y': 1.8609391698990232},\n",
       "   {'x': 1.0138528992520741, 'y': -0.7866318096813544},\n",
       "   {'x': 0.4202005104629296, 'y': -1.843410193477136},\n",
       "   {'x': -0.526336870598948, 'y': -0.07356847045590327},\n",
       "   {'x': 0.8678313570147577, 'y': 0.30180978311271767},\n",
       "   {'x': 1.0957816884277651, 'y': -1.341412664605685},\n",
       "   {'x': 0.09377520695385441, 'y': 0.28439518382498785},\n",
       "   {'x': 1.4860886743095698, 'y': 0.342207889828652},\n",
       "   {'x': -0.41719016772081463, 'y': 0.29617510162387956},\n",
       "   {'x': 1.0961085659916827, 'y': 0.15974515562921376},\n",
       "   {'x': 1.4469181167526732, 'y': 0.16635383614864552},\n",
       "   {'x': 0.17357584397031572, 'y': 0.06573227999723687},\n",
       "   {'x': -0.7476822264667573, 'y': -1.1522200485877416},\n",
       "   {'x': 0.20016257462270648, 'y': 0.07736886268791705},\n",
       "   {'x': -0.40029202186929635, 'y': 0.21053694648022203},\n",
       "   {'x': -0.0036007427227219, 'y': -0.5876091590475105},\n",
       "   {'x': 1.2230323237795846, 'y': -0.5937807171185754},\n",
       "   {'x': -0.7569522370773734, 'y': -0.7182047194452158},\n",
       "   {'x': 1.2842545466455617, 'y': -0.5904127408042393},\n",
       "   {'x': 1.5709862623119348, 'y': -0.5955114132579449},\n",
       "   {'x': -1.84690957740369, 'y': 0.824608956013567},\n",
       "   {'x': 0.31880946199816207, 'y': 1.166342283268766},\n",
       "   {'x': 0.3047859112318686, 'y': 2.133479477904674},\n",
       "   {'x': -2.442244950786112, 'y': 0.08546121155852536},\n",
       "   {'x': 0.43163198647854883, 'y': 1.1368696219553593},\n",
       "   {'x': 1.2794234536622626, 'y': 0.09829414758286813},\n",
       "   {'x': -0.1277265489907837, 'y': 0.16624975536259945},\n",
       "   {'x': 1.271809979371899, 'y': -1.0967168464534822},\n",
       "   {'x': 1.4235450755052739, 'y': 1.1836737973704035},\n",
       "   {'x': 0.559305053512073, 'y': -0.7615555166104547},\n",
       "   {'x': -1.2147445032469217, 'y': 0.35944500095018944},\n",
       "   {'x': -0.05336558306372784, 'y': -0.3900896410248981},\n",
       "   {'x': -0.538301905391373, 'y': -0.8219547555320945},\n",
       "   {'x': 1.2458783108071103, 'y': -0.5295673458412419},\n",
       "   {'x': 0.21979095815948196, 'y': -0.518520805209105},\n",
       "   {'x': 0.42100358311141073, 'y': -2.056125985578608},\n",
       "   {'x': -0.795337627160761, 'y': 1.1794260248424662},\n",
       "   {'x': -0.5369245732719244, 'y': 0.3716576607108425},\n",
       "   {'x': -1.037886591657041, 'y': 0.9046126445822726},\n",
       "   {'x': 0.23986615974303352, 'y': 0.3526147463287671},\n",
       "   {'x': -0.05899190965209733, 'y': -0.47246593728424846},\n",
       "   {'x': -0.6161957326436575, 'y': -1.2054653746991013},\n",
       "   {'x': -0.7010907078823718, 'y': 0.4143924551046194},\n",
       "   {'x': -0.46306224313004274, 'y': 1.3136996770743274},\n",
       "   {'x': -0.7091465217592973, 'y': 0.3629968351636559},\n",
       "   {'x': 2.7926181394536793, 'y': 0.3789603872044849},\n",
       "   {'x': -1.6525878057399919, 'y': 0.0613245749044866},\n",
       "   {'x': -1.600861429221371, 'y': 0.8226669084841068}],\n",
       "  'N': 70,\n",
       "  'rho': -0.2,\n",
       "  'calcRho': -0.04786592644961519},\n",
       " -0.1: {'data': [{'x': 0.8998211431373468, 'y': -0.36529744261404995},\n",
       "   {'x': -1.636941240416877, 'y': -1.0984561281075655},\n",
       "   {'x': 1.4859582782270755, 'y': -0.902397443224278},\n",
       "   {'x': 1.975889857555779, 'y': -1.280974335087275},\n",
       "   {'x': 0.8713895405847969, 'y': 0.05945681410132528},\n",
       "   {'x': -0.30517819010160047, 'y': 0.2115573232857353},\n",
       "   {'x': -0.8229329250144274, 'y': 2.0160790214114366},\n",
       "   {'x': 0.7606308335177182, 'y': 0.32292847270076497},\n",
       "   {'x': -0.06161461574134007, 'y': -0.6125759672133735},\n",
       "   {'x': -0.3432750399074241, 'y': 0.49804975042115696},\n",
       "   {'x': 1.7579919026468926, 'y': 1.669276696872093},\n",
       "   {'x': -1.3588288304743201, 'y': 0.12911604704167315},\n",
       "   {'x': 0.2711535368075097, 'y': -0.2003787896639687},\n",
       "   {'x': -0.06193867511030664, 'y': 1.2308207860939842},\n",
       "   {'x': 0.05405949461072852, 'y': -1.9447351710888632},\n",
       "   {'x': -0.43164258841264747, 'y': -0.11250435835088121},\n",
       "   {'x': 1.899405252833619, 'y': 0.2658798294748316},\n",
       "   {'x': -0.24167992049777676, 'y': -0.6833291763890709},\n",
       "   {'x': -1.0969477554469178, 'y': 1.4685038505477466},\n",
       "   {'x': 1.0690093334233073, 'y': -0.2256765291685446},\n",
       "   {'x': -0.30853024244141547, 'y': -0.6820321843125974},\n",
       "   {'x': -1.3242332226832951, 'y': 2.005021277773769},\n",
       "   {'x': -0.2360387983682623, 'y': 0.5712303613390292},\n",
       "   {'x': 0.8314400907729663, 'y': -0.764532456492778},\n",
       "   {'x': 2.040440892605319, 'y': -0.7896388275654597},\n",
       "   {'x': 1.1073694913765526, 'y': -0.8477130019627223},\n",
       "   {'x': -0.38945886706484767, 'y': 0.34981229619561516},\n",
       "   {'x': -0.5595708425298787, 'y': 2.3278430645529467},\n",
       "   {'x': 2.0340872816565088, 'y': 1.524136462562373},\n",
       "   {'x': -0.20564447765751176, 'y': 1.0053124946077563},\n",
       "   {'x': 0.7438526893880933, 'y': 1.7321530549603448},\n",
       "   {'x': -1.5985311680430734, 'y': 0.616726541486583},\n",
       "   {'x': 0.1701041210942415, 'y': 0.60049907180504},\n",
       "   {'x': -0.12991157828805072, 'y': -1.2238774222821562},\n",
       "   {'x': -1.4834182403592793, 'y': -0.23381810581574422},\n",
       "   {'x': 0.8782078939377359, 'y': -0.4970021270795024},\n",
       "   {'x': -0.07571977838221175, 'y': 0.1199505038874927},\n",
       "   {'x': -0.9605546428022769, 'y': -1.241562639906918},\n",
       "   {'x': -0.2319683016212763, 'y': -0.1133687696563532},\n",
       "   {'x': 0.42935962728557836, 'y': -0.16282471356871545},\n",
       "   {'x': -0.9515976308907953, 'y': -0.7962710558575117},\n",
       "   {'x': -2.2513588049741546, 'y': 1.2499372454714721},\n",
       "   {'x': 0.3654790274783261, 'y': -0.39576630772186683},\n",
       "   {'x': 0.6641771727547484, 'y': -1.5629558505159342},\n",
       "   {'x': -0.3727102737065459, 'y': -0.011236319733161776},\n",
       "   {'x': 1.159881048836719, 'y': -1.131895728992597},\n",
       "   {'x': -0.11015369627500841, 'y': -0.6274494341156086},\n",
       "   {'x': 0.8331771741682109, 'y': 0.31757674068368846},\n",
       "   {'x': -1.7015424798686811, 'y': 1.0258570266663913},\n",
       "   {'x': 0.7296669110102031, 'y': -0.4125158987164754},\n",
       "   {'x': -0.2561400323893855, 'y': -0.5019907976124273},\n",
       "   {'x': -0.8407278497541922, 'y': 0.23953300246297224},\n",
       "   {'x': -0.07522171527179992, 'y': 0.6861885007559355},\n",
       "   {'x': -0.6406847832938433, 'y': 1.42798531281352},\n",
       "   {'x': -1.8770450709785125, 'y': -0.6913029494875528},\n",
       "   {'x': -1.2847764505831107, 'y': -2.174312195597826},\n",
       "   {'x': 1.1393309429701908, 'y': -0.5695472251899877},\n",
       "   {'x': 0.2803854098440624, 'y': -0.6611393075186242},\n",
       "   {'x': 0.18683741731330739, 'y': 0.24861573230662246},\n",
       "   {'x': 0.9579888929339272, 'y': 0.07470929504427368},\n",
       "   {'x': 0.5349629139855449, 'y': 0.8888932443880136},\n",
       "   {'x': 0.6496841784458995, 'y': -0.7921355635230894},\n",
       "   {'x': -0.261603643524648, 'y': 0.20936897677450803},\n",
       "   {'x': -0.6892620894878143, 'y': -0.23502421546317584},\n",
       "   {'x': -1.1050577976749976, 'y': -2.017051836155424},\n",
       "   {'x': -1.7375830096635807, 'y': -1.898369875936774},\n",
       "   {'x': -0.7484949430165021, 'y': 1.8441706822522597},\n",
       "   {'x': 0.20202833083745741, 'y': 0.6609693232407571},\n",
       "   {'x': 0.7473096697798679, 'y': 1.413109298330155},\n",
       "   {'x': 1.0374398608983535, 'y': -0.5496079506234081}],\n",
       "  'N': 70,\n",
       "  'rho': -0.1,\n",
       "  'calcRho': -0.05979587626949862},\n",
       " 0.0: {'data': [{'x': -0.05523054980712671, 'y': -0.33107160430605564},\n",
       "   {'x': -0.78748554076019, 'y': 0.11470959249188184},\n",
       "   {'x': 0.1800608973017893, 'y': -0.34567425879463376},\n",
       "   {'x': -0.966298735821772, 'y': -1.8206717791119136},\n",
       "   {'x': -0.4225261121986275, 'y': -0.0257002142396712},\n",
       "   {'x': 1.9072289042266024, 'y': 0.1861716905848913},\n",
       "   {'x': -1.7124620521477363, 'y': 1.9555027332269905},\n",
       "   {'x': 0.8064373899634099, 'y': -0.9456681875964332},\n",
       "   {'x': 0.2748185364892944, 'y': -1.7976393275769311},\n",
       "   {'x': 0.1719165757951273, 'y': 0.6818877019240699},\n",
       "   {'x': -0.8182190311843779, 'y': 0.523188193623453},\n",
       "   {'x': 0.1662110198105839, 'y': -2.054399269493961},\n",
       "   {'x': -0.19360552243902662, 'y': 0.22024896882990258},\n",
       "   {'x': 0.4636615203326603, 'y': 0.014719075053945485},\n",
       "   {'x': -0.5858598457756611, 'y': 0.49599883527514305},\n",
       "   {'x': 0.9803261491652903, 'y': -1.081026901563185},\n",
       "   {'x': 1.9763714980166716, 'y': -1.1457894427231292},\n",
       "   {'x': -1.4045467883075329, 'y': 1.3921318231939177},\n",
       "   {'x': -0.06410472218338413, 'y': 0.7848408653149437},\n",
       "   {'x': 0.11705853116629097, 'y': -0.48052526805444534},\n",
       "   {'x': -1.0776516880451232, 'y': 0.6671168390955058},\n",
       "   {'x': -0.8513066648150694, 'y': 0.12012185389868618},\n",
       "   {'x': 1.3285720539860644, 'y': -0.11273993413312364},\n",
       "   {'x': 0.5280126683971644, 'y': 1.8008117566752704},\n",
       "   {'x': -0.5368404897609078, 'y': -0.06918564966090551},\n",
       "   {'x': -0.2031440966768219, 'y': -0.5071798857933292},\n",
       "   {'x': -2.0276330693891467, 'y': -0.15756325227154538},\n",
       "   {'x': -0.4481362404803933, 'y': 0.6847742470033036},\n",
       "   {'x': -0.9363399255209175, 'y': -0.05518823138128667},\n",
       "   {'x': 0.7340702251883839, 'y': -0.3576312179405896},\n",
       "   {'x': 0.6470754794533382, 'y': 0.008881483282278446},\n",
       "   {'x': 1.5118220858354472, 'y': 2.041874476053293},\n",
       "   {'x': 1.4093263823181403, 'y': 0.16477319648452748},\n",
       "   {'x': 1.8420682589853536, 'y': -0.46527514956364396},\n",
       "   {'x': -1.5216134342686611, 'y': -0.6272587806569133},\n",
       "   {'x': -0.2572848962089991, 'y': -1.019006602541933},\n",
       "   {'x': 0.4112285266816038, 'y': -0.5874571523593636},\n",
       "   {'x': -0.14810764406469032, 'y': -1.401682235186994},\n",
       "   {'x': 1.084762755523151, 'y': 0.819873289723897},\n",
       "   {'x': -1.0379346102933864, 'y': -0.3526579995759249},\n",
       "   {'x': 1.0927484207587708, 'y': -0.34230610856659105},\n",
       "   {'x': -0.1263202070840537, 'y': -0.5289648630556287},\n",
       "   {'x': -0.008137902741429873, 'y': 1.5596497719340447},\n",
       "   {'x': 0.6705171920025084, 'y': 0.7766644389974826},\n",
       "   {'x': 0.8020965845035467, 'y': -0.3906353265674104},\n",
       "   {'x': 2.0038858026682678, 'y': 1.1341375370679574},\n",
       "   {'x': -0.8947401299303722, 'y': 1.3329230003268044},\n",
       "   {'x': 0.2891042925134133, 'y': 1.9030132540852722},\n",
       "   {'x': -1.2880409445329526, 'y': -0.5730614373957115},\n",
       "   {'x': -0.23048951534737241, 'y': 0.5171900629253428},\n",
       "   {'x': 1.222877475964303, 'y': -1.0850876234336735},\n",
       "   {'x': 1.5610022010055233, 'y': 0.12298217076943013},\n",
       "   {'x': -0.7292407121901685, 'y': 0.1490801434954469},\n",
       "   {'x': -1.9019423447464603, 'y': 0.372952813184013},\n",
       "   {'x': -0.1347663038688556, 'y': -1.110402434933732},\n",
       "   {'x': 0.07092613618779497, 'y': 0.635122968178857},\n",
       "   {'x': 1.9893176086129836, 'y': -0.028164443330962546},\n",
       "   {'x': -0.9548097363612033, 'y': -1.0583704570477155},\n",
       "   {'x': 0.3945189159351474, 'y': -0.1328827415881053},\n",
       "   {'x': 0.4171281999970292, 'y': 0.7693148290401677},\n",
       "   {'x': -1.0514353614327068, 'y': 0.7120690280726176},\n",
       "   {'x': -0.8034728563172153, 'y': 1.0137827044550813},\n",
       "   {'x': -0.46849073497205146, 'y': -0.08662991018012504},\n",
       "   {'x': 0.1493831701857939, 'y': -0.4930787820388703},\n",
       "   {'x': -0.3851772531540981, 'y': 0.024970955641021586},\n",
       "   {'x': -0.809408905544445, 'y': 0.28637048269520227},\n",
       "   {'x': -0.8962260839087599, 'y': 1.0272043632142407},\n",
       "   {'x': -0.9199366504922115, 'y': -1.1879738450630055},\n",
       "   {'x': -0.06222983088542267, 'y': -1.052803876293181},\n",
       "   {'x': 0.5166616746878823, 'y': -1.203700951798259}],\n",
       "  'N': 70,\n",
       "  'rho': 0.0,\n",
       "  'calcRho': -0.07644692665969806},\n",
       " 0.1: {'data': [{'x': -1.7033804731448077, 'y': 0.5069617919431787},\n",
       "   {'x': -0.7722542690539957, 'y': 0.6491191233147393},\n",
       "   {'x': -0.3265082143202085, 'y': -0.40849824536437396},\n",
       "   {'x': -0.08410272967988303, 'y': -0.706392659207105},\n",
       "   {'x': 0.02982600836422422, 'y': 1.689267322930488},\n",
       "   {'x': 0.09157284713501132, 'y': 0.2790228333365762},\n",
       "   {'x': 1.6903035723072652, 'y': -0.5771475373111485},\n",
       "   {'x': -0.5892329523736606, 'y': 0.3371279803448285},\n",
       "   {'x': 0.4006271099770884, 'y': -0.6927631820061113},\n",
       "   {'x': 1.108550551300973, 'y': -1.1976174121192238},\n",
       "   {'x': -0.33288873803626196, 'y': 1.2310842104417372},\n",
       "   {'x': -0.03863422598903257, 'y': 0.3222945873309184},\n",
       "   {'x': -0.22585773530049372, 'y': -0.2780446191091034},\n",
       "   {'x': -1.8708551115350134, 'y': 2.066868633483146},\n",
       "   {'x': -0.5753225238314122, 'y': -0.10974279937159337},\n",
       "   {'x': -1.1070087603665055, 'y': -1.182631839425637},\n",
       "   {'x': 0.051611125822698334, 'y': 1.1315896571695403},\n",
       "   {'x': -0.5202485527924812, 'y': -1.6115324339404629},\n",
       "   {'x': -1.6658897753678001, 'y': -0.38271917273477507},\n",
       "   {'x': 1.2675129856491498, 'y': -0.8668097556169342},\n",
       "   {'x': 1.992391563615469, 'y': -0.022377392347655928},\n",
       "   {'x': 0.8362284581446523, 'y': 0.7845181055273852},\n",
       "   {'x': -0.8309456221924232, 'y': -1.5843649837649443},\n",
       "   {'x': 0.2952188403573225, 'y': 0.4961096353316138},\n",
       "   {'x': -0.22851106093365992, 'y': -0.8789436721516978},\n",
       "   {'x': -0.16406217440201348, 'y': 0.7427161022569688},\n",
       "   {'x': 1.1968449867591628, 'y': -0.5981141949828711},\n",
       "   {'x': 0.6965897655042524, 'y': 0.9053266980955065},\n",
       "   {'x': -0.16697396925851898, 'y': 0.7486859573747969},\n",
       "   {'x': -1.7260790036057534, 'y': 0.2437917762167536},\n",
       "   {'x': -0.7737490580950985, 'y': -1.4829867106500842},\n",
       "   {'x': 0.7425694873451647, 'y': 0.999443321880174},\n",
       "   {'x': 1.0787598738963766, 'y': -0.5098163725989069},\n",
       "   {'x': -0.0038040581114117122, 'y': 1.7182576990824503},\n",
       "   {'x': 0.16658338769318976, 'y': 0.8642341856022527},\n",
       "   {'x': 0.4282689469451302, 'y': 0.6835879981169549},\n",
       "   {'x': 0.2639963787560684, 'y': -0.6897611634781824},\n",
       "   {'x': 1.1552522648781216, 'y': -1.361140243326868},\n",
       "   {'x': 0.3591148362707263, 'y': 0.3483945017054141},\n",
       "   {'x': -2.034864688656941, 'y': -1.904562089236929},\n",
       "   {'x': 0.02586262414447149, 'y': 0.11251669995489391},\n",
       "   {'x': 0.33650019244476226, 'y': 0.7767568468572338},\n",
       "   {'x': 1.039231992453176, 'y': -0.03612284372060384},\n",
       "   {'x': -0.14735507287143063, 'y': 0.46048682948877995},\n",
       "   {'x': 2.774877528179075, 'y': -0.6414550168997378},\n",
       "   {'x': -0.662057161959312, 'y': 0.029349074530960362},\n",
       "   {'x': 1.2739223317860886, 'y': 1.2340140775658472},\n",
       "   {'x': -0.6266432276939097, 'y': 0.8607332863391376},\n",
       "   {'x': -0.6247106887966396, 'y': -0.5067534250876198},\n",
       "   {'x': 0.6700990639096358, 'y': -0.5474540085911147},\n",
       "   {'x': -0.031385202685874525, 'y': -1.8579190376468653},\n",
       "   {'x': 1.0426737903575771, 'y': 1.5498428209439725},\n",
       "   {'x': 0.655585089737837, 'y': 2.137862429131471},\n",
       "   {'x': 0.0725900308597599, 'y': 0.7136133598572009},\n",
       "   {'x': -0.06655716992716498, 'y': -1.3744155591172549},\n",
       "   {'x': 1.148770723101086, 'y': -0.4383273123485656},\n",
       "   {'x': 1.3078110639290588, 'y': 1.2854167338601656},\n",
       "   {'x': 1.3100602368917003, 'y': 1.0843140900990964},\n",
       "   {'x': 1.8612026115894804, 'y': -0.11021367216281044},\n",
       "   {'x': -0.6789190071267059, 'y': 0.4768607417495402},\n",
       "   {'x': -1.375144812945344, 'y': -0.07460278764693631},\n",
       "   {'x': -1.7574679864659117, 'y': -1.0495547570550912},\n",
       "   {'x': -1.1869164972016306, 'y': -1.4995982074719703},\n",
       "   {'x': -1.2282335163841838, 'y': 0.08760416915392968},\n",
       "   {'x': -1.469524042512672, 'y': -1.2793674976693232},\n",
       "   {'x': -0.8399740274643146, 'y': 1.3072734166171827},\n",
       "   {'x': 0.5095896018298681, 'y': -1.3752988888104791},\n",
       "   {'x': -2.8185330667850197, 'y': 0.20495686686421685},\n",
       "   {'x': 0.5584037043632613, 'y': -1.8891690302212096},\n",
       "   {'x': 0.8155916015686043, 'y': 0.6562149586951395}],\n",
       "  'N': 70,\n",
       "  'rho': 0.1,\n",
       "  'calcRho': 0.08597993733297907},\n",
       " 0.2: {'data': [{'x': 1.380184669505069, 'y': 0.4860331812994657},\n",
       "   {'x': 0.7863268639239025, 'y': -1.300970909410534},\n",
       "   {'x': -0.8168932931437628, 'y': -0.72220928224113},\n",
       "   {'x': -0.2214908574879328, 'y': -0.09484589093334858},\n",
       "   {'x': 0.9932997710437077, 'y': 1.441474875344171},\n",
       "   {'x': -0.5854679360183553, 'y': -0.8180874969011446},\n",
       "   {'x': 2.9282776655984883, 'y': 1.2980006954070846},\n",
       "   {'x': 0.9549946062682109, 'y': 0.5013050178576687},\n",
       "   {'x': 1.8525278875206708, 'y': 0.6808630641735199},\n",
       "   {'x': -1.2702661404935476, 'y': -0.23969354431288395},\n",
       "   {'x': -0.16162653555244286, 'y': -0.706667151953786},\n",
       "   {'x': -0.078924557737901, 'y': 0.19550106268713754},\n",
       "   {'x': 1.1432779952658565, 'y': 0.23810424924418486},\n",
       "   {'x': -0.07505728547753082, 'y': 0.06184403362656396},\n",
       "   {'x': 0.3092483482821431, 'y': 1.2502213120671721},\n",
       "   {'x': 0.914840614696895, 'y': -1.554258875458531},\n",
       "   {'x': 0.8533870785703199, 'y': 0.23283694572345612},\n",
       "   {'x': -1.7878674255465536, 'y': 0.8077816587287898},\n",
       "   {'x': -0.6196611849806035, 'y': 0.7467954050776965},\n",
       "   {'x': 0.556591858542418, 'y': 0.5861478870674545},\n",
       "   {'x': 2.1236011431374706, 'y': 1.4679725040530243},\n",
       "   {'x': 0.5715083047096323, 'y': 1.0341809878139332},\n",
       "   {'x': -0.1634941566619539, 'y': -0.8187406171591799},\n",
       "   {'x': -0.8096305567678777, 'y': -0.2076807442739607},\n",
       "   {'x': -2.748979748793353, 'y': -1.7105447749715683},\n",
       "   {'x': -1.194045620622647, 'y': -0.5638313776628316},\n",
       "   {'x': 0.8410429921521294, 'y': 1.3995415660270518},\n",
       "   {'x': 0.6587369614601144, 'y': -0.7605684095444092},\n",
       "   {'x': -0.26157475850990164, 'y': -1.0662673269207747},\n",
       "   {'x': 0.03764409791698762, 'y': -0.4232395470170738},\n",
       "   {'x': -0.6115224720567746, 'y': -0.9021642096442295},\n",
       "   {'x': -0.9208162215078716, 'y': -0.025017845901409513},\n",
       "   {'x': -1.660463244053085, 'y': -2.948049820489156},\n",
       "   {'x': -0.5482257740475486, 'y': -0.7280440184396764},\n",
       "   {'x': -0.7384361133492826, 'y': -0.9887670371680548},\n",
       "   {'x': -0.8804415818237983, 'y': -0.9021036589347046},\n",
       "   {'x': 1.3348734261836235, 'y': -0.14194164786005273},\n",
       "   {'x': -1.57990568422235, 'y': -0.6357906971366784},\n",
       "   {'x': -1.3532758274290733, 'y': -0.27959863105125216},\n",
       "   {'x': 0.22105421085647145, 'y': 0.5005708705391769},\n",
       "   {'x': 1.0860869585403103, 'y': -0.33564728679316247},\n",
       "   {'x': 0.3600834213983983, 'y': 0.6908331659151064},\n",
       "   {'x': 1.4406155024619671, 'y': 1.5580978195034925},\n",
       "   {'x': -0.4534219690661956, 'y': 0.39095597850232555},\n",
       "   {'x': 0.3796796137704964, 'y': 0.007873808925176778},\n",
       "   {'x': -0.23607553473977758, 'y': 0.7169253168464709},\n",
       "   {'x': 0.49660635947565773, 'y': -0.05376024049798536},\n",
       "   {'x': 1.8620381239165582, 'y': -0.739448240934637},\n",
       "   {'x': 0.5169741105558603, 'y': 1.027068745660892},\n",
       "   {'x': -0.03893115190917088, 'y': -0.7719409419721048},\n",
       "   {'x': -1.042479889617131, 'y': 0.48982702895591823},\n",
       "   {'x': -1.3472969816304945, 'y': -0.33374286107455875},\n",
       "   {'x': -1.8715017057674193, 'y': 1.6429069356390844},\n",
       "   {'x': -0.7899009044574258, 'y': 0.8466949429956749},\n",
       "   {'x': -0.5024693968248629, 'y': -0.5040762860697627},\n",
       "   {'x': -1.6043135129437394, 'y': 0.5479491199124349},\n",
       "   {'x': 0.5841737590615315, 'y': 1.498309619214869},\n",
       "   {'x': 2.280559003757606, 'y': 0.1583199236899062},\n",
       "   {'x': -0.7569086848833773, 'y': 0.07394126639998674},\n",
       "   {'x': -0.6032929323463432, 'y': 0.9432614647649882},\n",
       "   {'x': -0.6731609557867092, 'y': -1.2154825653489953},\n",
       "   {'x': 0.23262999104308899, 'y': 0.2592831549454133},\n",
       "   {'x': 0.9626138961781581, 'y': -0.6534594338983376},\n",
       "   {'x': -0.0032490365182257022, 'y': 0.46925298081936284},\n",
       "   {'x': 0.965166113337657, 'y': 1.5433662543341153},\n",
       "   {'x': -0.44873829646966146, 'y': 0.8846152009132326},\n",
       "   {'x': -0.3469606519881694, 'y': -0.992927922910785},\n",
       "   {'x': 0.3713392173048335, 'y': -0.1991244712938741},\n",
       "   {'x': 0.02737298018341302, 'y': -0.7298623632851649},\n",
       "   {'x': -0.22058896538679576, 'y': -1.6101019152102631}],\n",
       "  'N': 70,\n",
       "  'rho': 0.2,\n",
       "  'calcRho': 0.34527319042309024},\n",
       " 0.3: {'data': [{'x': -0.7742406076536441, 'y': 0.21495801345360982},\n",
       "   {'x': -1.1467277451434872, 'y': -1.0745690210907166},\n",
       "   {'x': 0.8189563107668667, 'y': -1.07328869302971},\n",
       "   {'x': 0.9671281069180684, 'y': 0.387784110486105},\n",
       "   {'x': 0.32841898888648796, 'y': -0.5591961048538499},\n",
       "   {'x': 0.021959138851169503, 'y': -0.7257075400906625},\n",
       "   {'x': 0.4527981926420683, 'y': -0.11923320974683681},\n",
       "   {'x': 1.0012676017616804, 'y': 1.2939987069611432},\n",
       "   {'x': -1.5329074531600273, 'y': -0.12658643853989976},\n",
       "   {'x': -0.39784544670429295, 'y': -0.036396977754775614},\n",
       "   {'x': 1.2299432788364908, 'y': 0.23099872349144063},\n",
       "   {'x': 1.1961577953920173, 'y': -0.9813632676569755},\n",
       "   {'x': 0.5324669793939953, 'y': 1.164799106594292},\n",
       "   {'x': -0.39625148211075917, 'y': -1.5096091397248357},\n",
       "   {'x': 1.2719044206488113, 'y': 0.6024546354491415},\n",
       "   {'x': -0.2038018656242398, 'y': 1.2586430698954711},\n",
       "   {'x': -1.369260367161272, 'y': 0.2902343649128199},\n",
       "   {'x': -0.49373395451345764, 'y': 0.5374074580925249},\n",
       "   {'x': 0.7907178591664917, 'y': -1.8796596402521601},\n",
       "   {'x': 0.8138827658426236, 'y': 1.297948428617966},\n",
       "   {'x': 1.795467981013505, 'y': 1.7503972872123352},\n",
       "   {'x': -0.026603351889790638, 'y': -0.729134117411852},\n",
       "   {'x': 1.718425684344445, 'y': 0.44724298526355805},\n",
       "   {'x': -0.56285515158926, 'y': -0.13876802536617763},\n",
       "   {'x': 0.517048771238597, 'y': 1.8002166979596699},\n",
       "   {'x': -0.9612748171160554, 'y': -1.04309081005272},\n",
       "   {'x': 0.25056518675164696, 'y': 0.2842236212083919},\n",
       "   {'x': -1.813927527075197, 'y': -3.4478767896212026},\n",
       "   {'x': -0.8860455099720455, 'y': -1.7635209651322596},\n",
       "   {'x': 0.08852828939824821, 'y': 0.3526258471570091},\n",
       "   {'x': 0.46880761433742546, 'y': 0.054226536513670084},\n",
       "   {'x': 1.2869671259408881, 'y': -1.1816427415902375},\n",
       "   {'x': -0.45185511122418187, 'y': 0.2780525800703862},\n",
       "   {'x': 0.7334021264669283, 'y': 0.5662820872573552},\n",
       "   {'x': -0.1465840216987274, 'y': -0.47414106258128424},\n",
       "   {'x': 0.9909170175548646, 'y': -1.551396242429019},\n",
       "   {'x': -1.2510626283934148, 'y': -0.7036418204053886},\n",
       "   {'x': -1.006762792878489, 'y': -0.22350353846164545},\n",
       "   {'x': 0.4687920214627686, 'y': 0.6934834525136129},\n",
       "   {'x': -0.1847365413741346, 'y': 1.6069147005052506},\n",
       "   {'x': -0.7242085724834745, 'y': -0.24328134081349},\n",
       "   {'x': -1.2669686520138803, 'y': -0.0016895695497469061},\n",
       "   {'x': 0.44612615313986287, 'y': 0.13620846455269653},\n",
       "   {'x': 1.1523645270562186, 'y': 1.6626885484522036},\n",
       "   {'x': -0.5704532635389411, 'y': -1.3339111465650093},\n",
       "   {'x': -0.2503581574969962, 'y': -0.28019544260655116},\n",
       "   {'x': 1.7711086995874985, 'y': 0.695068345788091},\n",
       "   {'x': 0.34017506411954884, 'y': 0.7088514822614248},\n",
       "   {'x': -0.9419026868358488, 'y': -0.06274028706698474},\n",
       "   {'x': 0.22414703659907814, 'y': -1.048416085360771},\n",
       "   {'x': -0.37858512206140804, 'y': 0.15680198156033712},\n",
       "   {'x': 0.3592334767874909, 'y': -0.9484924730705411},\n",
       "   {'x': -0.30018443765759434, 'y': 0.5111385516057358},\n",
       "   {'x': 0.24130170493383857, 'y': 1.2850325004136127},\n",
       "   {'x': -0.8078454747349362, 'y': 0.8077492681580348},\n",
       "   {'x': 0.6859076755572237, 'y': 0.41348491262322234},\n",
       "   {'x': -0.72351056007034, 'y': 0.8996351290904907},\n",
       "   {'x': -0.5651480401265728, 'y': -0.7767762629739111},\n",
       "   {'x': -0.19646792632711454, 'y': 0.17627546740057662},\n",
       "   {'x': -0.17750346035095704, 'y': -0.8943260521077246},\n",
       "   {'x': -1.1949507168237212, 'y': -0.4161363876706699},\n",
       "   {'x': -1.0144741048520307, 'y': -1.0311331961200298},\n",
       "   {'x': -0.7990533905868348, 'y': -0.6121473462106212},\n",
       "   {'x': -0.7280114654182651, 'y': 1.661190827132336},\n",
       "   {'x': 1.2136894114319132, 'y': 0.5933104557482379},\n",
       "   {'x': 0.016062020364534486, 'y': 0.3930793476668838},\n",
       "   {'x': 0.7704947607524578, 'y': 1.0161135079899413},\n",
       "   {'x': 0.01223577990823298, 'y': 0.4588565118630738},\n",
       "   {'x': -1.1116720774830604, 'y': 0.5808879680736106},\n",
       "   {'x': 0.380404916290466, 'y': -0.2776939480880055}],\n",
       "  'N': 70,\n",
       "  'rho': 0.3,\n",
       "  'calcRho': 0.321175270099701},\n",
       " 0.4: {'data': [{'x': 0.2952670189968236, 'y': -1.668709702215699},\n",
       "   {'x': 1.194415709496919, 'y': 0.4345068375146736},\n",
       "   {'x': -0.6244435723311567, 'y': 0.6066818515278497},\n",
       "   {'x': -0.47263315649847837, 'y': 0.27346841642192043},\n",
       "   {'x': -0.5307410153682454, 'y': 0.31041499067870315},\n",
       "   {'x': -0.07772061881431487, 'y': -0.5230770253083475},\n",
       "   {'x': 0.8497440454410602, 'y': 0.2549777724832608},\n",
       "   {'x': 0.8925922656813542, 'y': -0.10270080903884946},\n",
       "   {'x': 0.3924494713369057, 'y': -1.0091491186067931},\n",
       "   {'x': 0.5795302788149551, 'y': -0.2384106901424672},\n",
       "   {'x': 1.655066634729571, 'y': 1.6037206503048804},\n",
       "   {'x': -0.8637885901944188, 'y': 1.0269309447077954},\n",
       "   {'x': -0.9444622567428905, 'y': -0.08492026034157271},\n",
       "   {'x': -0.4300790858457805, 'y': -0.002018646417782122},\n",
       "   {'x': -0.4398082457483282, 'y': -0.8416728273323193},\n",
       "   {'x': 0.13821927603944273, 'y': 0.36019554332399667},\n",
       "   {'x': -0.6696952720589379, 'y': -0.12787687421948937},\n",
       "   {'x': 0.6391224424209623, 'y': -0.716346091381519},\n",
       "   {'x': 1.2830290306212875, 'y': -0.384769630473209},\n",
       "   {'x': -0.20069973916446415, 'y': 0.7800619167869765},\n",
       "   {'x': -1.202115853200406, 'y': -0.8560973956961303},\n",
       "   {'x': 0.7878886003573583, 'y': -1.3962953545268577},\n",
       "   {'x': -0.5683126830836575, 'y': -0.4008541517479163},\n",
       "   {'x': -0.8896425221051202, 'y': 0.42863519356275853},\n",
       "   {'x': 0.6751560837945162, 'y': 1.4616798717780346},\n",
       "   {'x': 0.7004315171637948, 'y': 0.45666179209665547},\n",
       "   {'x': -0.445338505632343, 'y': -0.04893269400126945},\n",
       "   {'x': -0.6493879335007294, 'y': 0.2456418987856043},\n",
       "   {'x': 0.941776753122452, 'y': 0.34464685253830807},\n",
       "   {'x': -0.7291370153209076, 'y': 0.03631405301269001},\n",
       "   {'x': -0.7288256883812589, 'y': 0.048136513586637376},\n",
       "   {'x': -0.09590933742281639, 'y': -0.35299243900720617},\n",
       "   {'x': 0.42673662921878086, 'y': -1.220059050454352},\n",
       "   {'x': -0.14178304948288611, 'y': -0.014591271219043836},\n",
       "   {'x': 1.4335001908483203, 'y': 0.9266758103131957},\n",
       "   {'x': -0.32596162049444144, 'y': 1.448570628489214},\n",
       "   {'x': 1.2229505796293396, 'y': -0.3439225702914978},\n",
       "   {'x': 2.084676377479588, 'y': 0.26146023490259696},\n",
       "   {'x': -1.7252921128891607, 'y': 0.013938069155398724},\n",
       "   {'x': -0.36212580520373905, 'y': -0.3732681880631775},\n",
       "   {'x': 1.7580511115353215, 'y': -0.927997756021869},\n",
       "   {'x': 0.485163890312461, 'y': 1.586829154674896},\n",
       "   {'x': -2.621208063491391, 'y': 0.6847179968976096},\n",
       "   {'x': -0.09323579617115353, 'y': -1.4097921523913357},\n",
       "   {'x': -0.19846604258759015, 'y': 0.33196564073722523},\n",
       "   {'x': 0.4564486658289833, 'y': -1.0109822395981423},\n",
       "   {'x': -0.5391245376114466, 'y': 0.22976070272130303},\n",
       "   {'x': -0.32564138678810356, 'y': -0.6755181901627199},\n",
       "   {'x': 0.022164389725062225, 'y': 0.592631922013119},\n",
       "   {'x': 1.114695023610696, 'y': 1.4414775277040877},\n",
       "   {'x': 0.09291875869665366, 'y': -1.5420822260817018},\n",
       "   {'x': -0.725350011339927, 'y': -1.7070649190070315},\n",
       "   {'x': -0.5901135191094532, 'y': 0.24680489200347652},\n",
       "   {'x': -0.153142816917554, 'y': 0.26602618051523375},\n",
       "   {'x': -0.16075082576954453, 'y': -0.055894012888654386},\n",
       "   {'x': 0.7905409433552645, 'y': -0.06602153582219458},\n",
       "   {'x': 0.047773945692025574, 'y': 0.31202234436262527},\n",
       "   {'x': 0.46760486189636685, 'y': 1.1513790073318397},\n",
       "   {'x': 0.754617731573353, 'y': 0.9199584900514821},\n",
       "   {'x': -0.5926084894188242, 'y': 0.2728909583643718},\n",
       "   {'x': 0.19177311003892428, 'y': -2.3422539998910605},\n",
       "   {'x': 0.4972037946355189, 'y': 1.3382727018514748},\n",
       "   {'x': -0.5799819626768452, 'y': 1.7531924462915718},\n",
       "   {'x': -0.9345901640941022, 'y': -1.045812950972065},\n",
       "   {'x': -1.0037465980731957, 'y': -1.5010074408086218},\n",
       "   {'x': 0.018422392566480178, 'y': -0.3118806596191382},\n",
       "   {'x': -1.3920547206833127, 'y': 1.1413790778353146},\n",
       "   {'x': -0.013761534182807164, 'y': 0.1244690300068986},\n",
       "   {'x': -0.21146331021914033, 'y': -0.1839034273837757},\n",
       "   {'x': 0.36321193395832907, 'y': -0.23022161419987006}],\n",
       "  'N': 70,\n",
       "  'rho': 0.4,\n",
       "  'calcRho': 0.05243416818121713},\n",
       " 0.5: {'data': [{'x': -0.656160230242243, 'y': 0.4788683281949306},\n",
       "   {'x': 0.46017023920288713, 'y': 0.16318315126829985},\n",
       "   {'x': 0.4084958667056071, 'y': 0.2463809237952225},\n",
       "   {'x': -0.17435998087664506, 'y': 0.573597464865267},\n",
       "   {'x': 0.6213286254414556, 'y': 1.6460525434207083},\n",
       "   {'x': 0.26096105795646435, 'y': 1.3245767853793546},\n",
       "   {'x': 0.319840984943186, 'y': 0.13014880638358156},\n",
       "   {'x': -0.10875280459140435, 'y': 2.032381905593331},\n",
       "   {'x': -1.002393006465783, 'y': -1.8839217457444335},\n",
       "   {'x': -0.5301603065857525, 'y': 0.2391501272360345},\n",
       "   {'x': 0.868981540317979, 'y': 0.2349984061540437},\n",
       "   {'x': 0.20611282841779738, 'y': 0.29500472919732273},\n",
       "   {'x': 0.19105849344711967, 'y': -0.057546427602178506},\n",
       "   {'x': 0.8158263071624028, 'y': -0.3724495946956547},\n",
       "   {'x': 0.4016318641759611, 'y': -0.9107391783330567},\n",
       "   {'x': -0.34782531053814436, 'y': -0.05948140142275601},\n",
       "   {'x': -0.5309078651439068, 'y': -0.8816718318168114},\n",
       "   {'x': -0.8925371610874651, 'y': -1.895112122782994},\n",
       "   {'x': 0.873722696172951, 'y': 1.4121754577277303},\n",
       "   {'x': 0.7416358624743402, 'y': 1.367196760659972},\n",
       "   {'x': -1.7037882327797629, 'y': -0.5140438170455317},\n",
       "   {'x': 1.0861475475174427, 'y': -0.7622284569164308},\n",
       "   {'x': 0.04206497415384125, 'y': 0.979512402167147},\n",
       "   {'x': -0.05015445705030938, 'y': -0.02665467702994298},\n",
       "   {'x': 1.3379061701308559, 'y': 0.4798847382609113},\n",
       "   {'x': 0.04788283111783856, 'y': 0.07956499086943206},\n",
       "   {'x': -0.9911690393037131, 'y': -0.6594746477748971},\n",
       "   {'x': -0.1140957080352401, 'y': -0.8396542258172698},\n",
       "   {'x': -0.011014176309165957, 'y': -0.059974399837747015},\n",
       "   {'x': -1.7946837758394572, 'y': -1.8597485410158159},\n",
       "   {'x': 0.12508812849060308, 'y': 0.3523790139724072},\n",
       "   {'x': -1.143202596849783, 'y': 1.3492499772663895},\n",
       "   {'x': -2.207336029227274, 'y': -1.0338004380506285},\n",
       "   {'x': 2.749136228993946, 'y': 1.0716650079415526},\n",
       "   {'x': -0.4447581671380277, 'y': -0.30377248336035717},\n",
       "   {'x': -0.8494913890672197, 'y': -0.24435371709767617},\n",
       "   {'x': -0.4376538403338022, 'y': -1.1761636971103195},\n",
       "   {'x': -0.22999361095652315, 'y': -0.9624496421534777},\n",
       "   {'x': -0.8606684272250933, 'y': -0.8569209700898015},\n",
       "   {'x': -1.0235788508107675, 'y': -0.6104826620652443},\n",
       "   {'x': 0.911933327313935, 'y': 0.8555984358937009},\n",
       "   {'x': -0.4471297681541034, 'y': 0.2896455341115827},\n",
       "   {'x': -0.7693170378713224, 'y': 0.038415728716442755},\n",
       "   {'x': 0.7549035723763269, 'y': 0.707308842924198},\n",
       "   {'x': -0.7118331488429898, 'y': -0.8017952012202214},\n",
       "   {'x': 0.8902818956276888, 'y': 0.4725172685767475},\n",
       "   {'x': 0.14286151644947515, 'y': 1.1269793149141558},\n",
       "   {'x': 0.7799021160281852, 'y': -1.268083957295477},\n",
       "   {'x': -0.5461450162813413, 'y': 0.4179407308071726},\n",
       "   {'x': -0.6350980070871077, 'y': 0.03083263824999339},\n",
       "   {'x': 0.6672171328691134, 'y': -0.24969716659217908},\n",
       "   {'x': 1.0678191387275353, 'y': 0.00012891770261150987},\n",
       "   {'x': 2.4797054091022535, 'y': 1.099528771592148},\n",
       "   {'x': -1.0753796301884715, 'y': -1.5449250080408101},\n",
       "   {'x': 0.5391506078800464, 'y': -0.43382982523432917},\n",
       "   {'x': 1.398165267176033, 'y': 0.33746815565757965},\n",
       "   {'x': 0.8934543140018729, 'y': -0.8706053455517674},\n",
       "   {'x': -0.3898972954384625, 'y': 1.2601597460432183},\n",
       "   {'x': 0.2953157559227196, 'y': -0.8114405009563487},\n",
       "   {'x': -0.8312328782054782, 'y': -0.3034864612165549},\n",
       "   {'x': -0.29171478306475673, 'y': 0.8185121697954899},\n",
       "   {'x': -1.1166151561325242, 'y': -1.143759892821195},\n",
       "   {'x': -0.5039877495710872, 'y': -0.3827729891265446},\n",
       "   {'x': -0.3576542493473377, 'y': 1.4924470365989055},\n",
       "   {'x': 0.9495422345960718, 'y': -0.5890317391503287},\n",
       "   {'x': -0.4998086757482767, 'y': 0.2411278382348432},\n",
       "   {'x': 0.03837038821155292, 'y': -0.7252748220372576},\n",
       "   {'x': -0.12798750088330313, 'y': 0.9557545312771764},\n",
       "   {'x': 1.7548111764233565, 'y': 0.02667793620790141},\n",
       "   {'x': -0.7129402362547986, 'y': 0.4683324693485346}],\n",
       "  'N': 70,\n",
       "  'rho': 0.5,\n",
       "  'calcRho': 0.3815051946926809},\n",
       " 0.6: {'data': [{'x': 0.7196112839235669, 'y': 0.5384493506213057},\n",
       "   {'x': -0.23162661690318959, 'y': 0.3119309004194517},\n",
       "   {'x': 0.505815612325219, 'y': -0.5819313029187718},\n",
       "   {'x': -0.886322387803843, 'y': -1.4416395036422789},\n",
       "   {'x': -0.07419639760623246, 'y': -0.765003146011308},\n",
       "   {'x': -0.9158675311732424, 'y': 0.5830889309160439},\n",
       "   {'x': 0.46037015419108684, 'y': 0.32182774000543435},\n",
       "   {'x': -0.4203584824964571, 'y': 0.10277341879899865},\n",
       "   {'x': -0.5651815328629981, 'y': -0.6970389380486732},\n",
       "   {'x': -0.6847418195760387, 'y': 0.2058765955820856},\n",
       "   {'x': -1.7366426810175917, 'y': -1.2721923924859095},\n",
       "   {'x': 0.667603190425045, 'y': 1.882764083413965},\n",
       "   {'x': 0.12803670255576016, 'y': 0.5022811530458947},\n",
       "   {'x': 0.7017603653514201, 'y': 0.3022019131726144},\n",
       "   {'x': 0.26866861909786505, 'y': 0.019047303343136285},\n",
       "   {'x': 0.9271605042944713, 'y': -0.6131975129213907},\n",
       "   {'x': -0.46395642140817633, 'y': -0.20356026520436737},\n",
       "   {'x': 0.4771572177193186, 'y': -0.21043816931219878},\n",
       "   {'x': 0.5196948163690993, 'y': -0.03914296158506361},\n",
       "   {'x': 0.9834125803136097, 'y': 0.7456918896515676},\n",
       "   {'x': -0.14160302086569865, 'y': -0.4937116826286321},\n",
       "   {'x': -0.715939909860742, 'y': -0.03084143877387402},\n",
       "   {'x': -0.2548534288146998, 'y': 1.024112769699533},\n",
       "   {'x': 0.03458092148597107, 'y': 0.21758735330146445},\n",
       "   {'x': 0.41405772322894435, 'y': -0.11603824869785034},\n",
       "   {'x': 0.4994583018823641, 'y': -0.06829474471750624},\n",
       "   {'x': -0.40798843414572866, 'y': -0.6301554221785783},\n",
       "   {'x': 1.0461720226955666, 'y': 1.5987862690497605},\n",
       "   {'x': 0.897819069978267, 'y': -0.01227876378100573},\n",
       "   {'x': 0.8802285546075272, 'y': 0.5854228084741511},\n",
       "   {'x': 1.771073757896807, 'y': 1.9495095795266835},\n",
       "   {'x': 0.5163263791675847, 'y': -0.33488296095432446},\n",
       "   {'x': -0.31653829102190073, 'y': 0.17681299181638707},\n",
       "   {'x': -0.5581741457082915, 'y': -0.22260480995464943},\n",
       "   {'x': -0.7372644700963151, 'y': 0.6495680868121431},\n",
       "   {'x': 1.1553750812729007, 'y': 1.197464861641994},\n",
       "   {'x': 0.4730285862844628, 'y': 0.08085765554443178},\n",
       "   {'x': -0.11842903867906172, 'y': -0.09993508157313749},\n",
       "   {'x': -0.6899234912347537, 'y': 0.7296674883442866},\n",
       "   {'x': -0.10640667624576321, 'y': 0.15081475489652849},\n",
       "   {'x': -1.430515777768272, 'y': -1.8011162710875763},\n",
       "   {'x': 0.14892968734591716, 'y': 0.3269722844162427},\n",
       "   {'x': -2.1122229399558576, 'y': -0.9073452735393347},\n",
       "   {'x': -0.5885121166697781, 'y': -0.36455739358131944},\n",
       "   {'x': 0.4168990373335857, 'y': 0.006860729813187333},\n",
       "   {'x': 1.7589267266188202, 'y': 0.21743472432894184},\n",
       "   {'x': -0.007983027482390812, 'y': 0.824739462915028},\n",
       "   {'x': -0.2596893534640828, 'y': -0.9498298728604387},\n",
       "   {'x': -2.6482449353171833, 'y': -2.0680332094268463},\n",
       "   {'x': 2.153164793959335, 'y': -0.48711958050814363},\n",
       "   {'x': 1.2650845427073028, 'y': 0.8850678039602009},\n",
       "   {'x': 0.164143248172458, 'y': 0.2409690227898011},\n",
       "   {'x': -0.6650925137634126, 'y': -1.399084854353628},\n",
       "   {'x': 0.7711679963696138, 'y': 0.2880576183519806},\n",
       "   {'x': -0.5471498060273302, 'y': -0.44471828469343766},\n",
       "   {'x': -1.8000984047429631, 'y': -1.5500373691282745},\n",
       "   {'x': 0.1138775658156926, 'y': 0.5823844620937454},\n",
       "   {'x': 0.2822499730754071, 'y': 1.0138119001806574},\n",
       "   {'x': -2.4409664971670786, 'y': -1.9167065567485315},\n",
       "   {'x': 0.7070182208137338, 'y': 1.0242672641126598},\n",
       "   {'x': -0.8438770519247435, 'y': -0.3468302520960002},\n",
       "   {'x': 1.6950455543043226, 'y': 0.5071832750404608},\n",
       "   {'x': -0.3561310496637002, 'y': -0.7355817920899261},\n",
       "   {'x': 1.9806811343023163, 'y': 1.0723860026601266},\n",
       "   {'x': -0.2711939057945287, 'y': 1.20880377916231},\n",
       "   {'x': 0.8996953855263232, 'y': -1.33439982031697},\n",
       "   {'x': -1.009966290852364, 'y': 0.6969425063591446},\n",
       "   {'x': -0.6946086521526978, 'y': -0.7041988827933717},\n",
       "   {'x': 0.5699704871502888, 'y': 0.44659215996868085},\n",
       "   {'x': -1.2719986982948648, 'y': -0.3765641356177102}],\n",
       "  'N': 70,\n",
       "  'rho': 0.6,\n",
       "  'calcRho': 0.5916351725679987},\n",
       " 0.7: {'data': [{'x': -0.1101169512850717, 'y': -0.45183073123210193},\n",
       "   {'x': -1.1321543798028868, 'y': -0.832969242926114},\n",
       "   {'x': 1.1016975888050764, 'y': -0.3726099723217895},\n",
       "   {'x': -0.1066311290960183, 'y': 0.72085883972502},\n",
       "   {'x': -0.030553977280485124, 'y': -0.716586270387408},\n",
       "   {'x': -0.41695239926703986, 'y': -0.16943312745586817},\n",
       "   {'x': -0.9279015708575812, 'y': -0.8920448336236801},\n",
       "   {'x': 1.6851902933435163, 'y': 1.1198904586320344},\n",
       "   {'x': -1.129426212788746, 'y': -0.9911477184804369},\n",
       "   {'x': 0.5256458849146391, 'y': -0.53338880476372},\n",
       "   {'x': -0.6555185303061493, 'y': -0.5855699525895793},\n",
       "   {'x': 2.248112430027156, 'y': 1.8894421122865426},\n",
       "   {'x': -0.09678743360712408, 'y': -0.28075662572586446},\n",
       "   {'x': -2.538297164579009, 'y': -2.0082691581378507},\n",
       "   {'x': 0.2626543941185842, 'y': 0.26832888399770727},\n",
       "   {'x': 1.7393474755421388, 'y': 0.5448389407550329},\n",
       "   {'x': -0.5699679253969209, 'y': 0.35404039735598447},\n",
       "   {'x': 0.33947367679199725, 'y': 0.2890133253548014},\n",
       "   {'x': -1.4298983792263953, 'y': -0.6745913880778887},\n",
       "   {'x': 1.314335351578282, 'y': 0.9354556750689037},\n",
       "   {'x': 0.2098280201055277, 'y': 0.7473477417288643},\n",
       "   {'x': -0.32692114208028655, 'y': -0.3595849459666426},\n",
       "   {'x': -0.6739497826235167, 'y': -0.36436978721995883},\n",
       "   {'x': 0.3349157193392115, 'y': -0.8603485609319872},\n",
       "   {'x': 0.2885455440272425, 'y': 0.9453877509627523},\n",
       "   {'x': 0.6291540732048905, 'y': 0.5929440710962411},\n",
       "   {'x': -0.25775853636918084, 'y': -0.37746028768037565},\n",
       "   {'x': -0.8946282790902357, 'y': -1.3200324094917655},\n",
       "   {'x': -1.6865542978044605, 'y': -1.0828362598941823},\n",
       "   {'x': -0.23864725571074977, 'y': -0.6995259250976322},\n",
       "   {'x': 0.11133137546151675, 'y': 0.8676441076010404},\n",
       "   {'x': -0.9741815466864605, 'y': -0.9157684349078439},\n",
       "   {'x': -0.11751977613465203, 'y': 0.19746627107630738},\n",
       "   {'x': 0.8691200832020775, 'y': 0.9595738397887477},\n",
       "   {'x': 0.28657722887024406, 'y': 1.7036677741022521},\n",
       "   {'x': -0.48225555128843456, 'y': -1.2180712274327399},\n",
       "   {'x': -0.20414253881372083, 'y': -0.34162608463637845},\n",
       "   {'x': -0.27064337235581915, 'y': 0.41919397015916726},\n",
       "   {'x': -0.2295220179983933, 'y': 1.2408879711203509},\n",
       "   {'x': 0.6739358310560183, 'y': 0.561826590760165},\n",
       "   {'x': -2.2241558997417643, 'y': -2.0467053687228303},\n",
       "   {'x': 0.5190112718597123, 'y': -0.844232284306089},\n",
       "   {'x': 2.2217151257867673, 'y': 2.4547943270959514},\n",
       "   {'x': -1.1764090686050312, 'y': 0.12458062707593517},\n",
       "   {'x': 1.7496495177004971, 'y': 2.482660192262646},\n",
       "   {'x': -0.28861812646671636, 'y': -0.45102981174456336},\n",
       "   {'x': 0.8502770366954332, 'y': 0.9107203887931274},\n",
       "   {'x': 0.2749930497673422, 'y': 0.7786617122008346},\n",
       "   {'x': 0.03716258945341935, 'y': 0.4582944117471127},\n",
       "   {'x': 1.8935137598884548, 'y': 0.8546194514366209},\n",
       "   {'x': 0.9602428701314211, 'y': 1.6138523947125727},\n",
       "   {'x': -0.5965413349369334, 'y': -0.772580903401759},\n",
       "   {'x': 0.2639204472505179, 'y': 0.49938915542706575},\n",
       "   {'x': 0.7255156810376139, 'y': 0.8595459552641664},\n",
       "   {'x': 1.0535665959284108, 'y': 0.8414470340274884},\n",
       "   {'x': -1.1975074749457262, 'y': -0.5987872482807448},\n",
       "   {'x': 1.2320686682392605, 'y': 0.6233174317568304},\n",
       "   {'x': 0.7743734417536137, 'y': -0.6597416714100652},\n",
       "   {'x': -0.2475960415211945, 'y': -0.8975093895678568},\n",
       "   {'x': 1.666772749373012, 'y': 0.5225114092196653},\n",
       "   {'x': -0.6958580426088621, 'y': -0.2807990940646349},\n",
       "   {'x': 0.07958631989582424, 'y': 1.370550723899555},\n",
       "   {'x': 1.0688243189991835, 'y': -0.11081657414543791},\n",
       "   {'x': -0.995645645793735, 'y': -1.5227873121709306},\n",
       "   {'x': -0.9819586734383091, 'y': -1.2594152974272903},\n",
       "   {'x': -0.36773012553758355, 'y': -0.5325978624753145},\n",
       "   {'x': -0.8655784300080942, 'y': -0.8684551971858053},\n",
       "   {'x': -0.8098547137115584, 'y': 0.7130708555116791},\n",
       "   {'x': -1.5084172336475916, 'y': -1.675268797374985},\n",
       "   {'x': -0.5342574527361662, 'y': -0.8962762307430521}],\n",
       "  'N': 70,\n",
       "  'rho': 0.7,\n",
       "  'calcRho': 0.7542509628818348},\n",
       " 0.8: {'data': [{'x': 0.34454666007762724, 'y': -0.14032444031049268},\n",
       "   {'x': -0.4112049005613348, 'y': -0.5683722207694921},\n",
       "   {'x': -1.1499902632839762, 'y': -2.1813614848339977},\n",
       "   {'x': 0.371498746150971, 'y': 0.18988236237057982},\n",
       "   {'x': -0.686337703817764, 'y': -0.8090653542687649},\n",
       "   {'x': 0.5918132511039873, 'y': 0.3335532583252209},\n",
       "   {'x': 1.0343232343202824, 'y': 1.9415770909133987},\n",
       "   {'x': -0.8098886119333595, 'y': -1.333806414658624},\n",
       "   {'x': -1.547742129338912, 'y': -0.16274727787856047},\n",
       "   {'x': 1.6174512793100393, 'y': 1.8790377600095278},\n",
       "   {'x': 0.5501496535868962, 'y': 0.7717782306037271},\n",
       "   {'x': 1.2418685732276624, 'y': 1.1610791601261177},\n",
       "   {'x': -0.2813952469132011, 'y': -0.7551031750608264},\n",
       "   {'x': -0.2230742652531627, 'y': 0.2667702954804442},\n",
       "   {'x': 0.23878834855409864, 'y': -0.30546279686593353},\n",
       "   {'x': 0.1803485717263028, 'y': -0.5117051786947846},\n",
       "   {'x': 1.4233436474787082, 'y': 1.713915743144841},\n",
       "   {'x': -1.303008109836293, 'y': -0.5502078111313746},\n",
       "   {'x': -0.07571859507883028, 'y': -0.3406783000874349},\n",
       "   {'x': -0.3036587741688411, 'y': 0.2233626975592206},\n",
       "   {'x': -1.8852269641671278, 'y': -1.548282609906247},\n",
       "   {'x': -2.588953610442339, 'y': -2.2774242790418},\n",
       "   {'x': -0.5553106830311547, 'y': -0.8019089979595846},\n",
       "   {'x': 0.1838598666050139, 'y': -0.2652628621538673},\n",
       "   {'x': -0.16232603405453294, 'y': -0.8743413431000489},\n",
       "   {'x': 1.421673480304971, 'y': 1.4293004094433468},\n",
       "   {'x': -1.0989954711814158, 'y': -1.6270765494074408},\n",
       "   {'x': 0.31122844483766204, 'y': 0.46723777974968916},\n",
       "   {'x': -1.09548557382231, 'y': -1.2455382605498884},\n",
       "   {'x': 1.171571045237615, 'y': 1.0068787207375631},\n",
       "   {'x': -3.528348350538575, 'y': -2.9215832687038623},\n",
       "   {'x': 2.363889945307303, 'y': 1.7523392873600456},\n",
       "   {'x': 1.1531204391596659, 'y': 2.4930117936088325},\n",
       "   {'x': 0.5330359346389907, 'y': 1.3642978913679158},\n",
       "   {'x': 0.40666170791496076, 'y': 0.31611323309510686},\n",
       "   {'x': -0.6939973363301286, 'y': 0.058220151444152005},\n",
       "   {'x': 0.2761412287119541, 'y': -0.08947522591501074},\n",
       "   {'x': -1.6990884063595197, 'y': -0.9963029480651395},\n",
       "   {'x': 0.7020278763295913, 'y': 0.6088010263298087},\n",
       "   {'x': -1.6621739302591574, 'y': -1.2141197906357482},\n",
       "   {'x': -0.43343019716283443, 'y': -0.1458069804568647},\n",
       "   {'x': 0.7103683530317577, 'y': 0.9095552612176914},\n",
       "   {'x': -0.10335035585904215, 'y': 0.6550949819827472},\n",
       "   {'x': -0.7322635094129206, 'y': -1.7703073646704035},\n",
       "   {'x': 0.7065989933355474, 'y': 0.30364726622784954},\n",
       "   {'x': 0.4185735325852328, 'y': -0.800720588082322},\n",
       "   {'x': 1.9255663776961316, 'y': 1.7236597673487055},\n",
       "   {'x': 1.3719398244908936, 'y': 1.0380271528356375},\n",
       "   {'x': 1.0126955791561303, 'y': 0.43286553093951735},\n",
       "   {'x': -0.8278343584945647, 'y': -1.1731567484950711},\n",
       "   {'x': 0.891387345301202, 'y': 0.13081541524540896},\n",
       "   {'x': 2.151602292843355, 'y': 2.168775704099438},\n",
       "   {'x': 0.9238728239167069, 'y': 1.130503951567241},\n",
       "   {'x': -0.9188020449811629, 'y': -0.9855060393734891},\n",
       "   {'x': 1.1195941713862092, 'y': 1.789923847015873},\n",
       "   {'x': -0.6949325424757029, 'y': 0.08729591776228103},\n",
       "   {'x': -0.9924157567140293, 'y': -0.17046134408197816},\n",
       "   {'x': -1.1421077091297687, 'y': -0.6532370884365695},\n",
       "   {'x': -1.3984589647934953, 'y': -1.2897283483900874},\n",
       "   {'x': -0.5032699902820985, 'y': -1.1262416135961393},\n",
       "   {'x': 0.696976561970174, 'y': 0.8290760035505074},\n",
       "   {'x': 1.518462517508874, 'y': 2.4358684154631196},\n",
       "   {'x': -1.2519127142266764, 'y': -1.225532880096314},\n",
       "   {'x': -0.41451244887122324, 'y': -0.2188532179757372},\n",
       "   {'x': -0.6754855692882842, 'y': -0.07960536013385543},\n",
       "   {'x': 1.3418820054067262, 'y': 0.08382975692891471},\n",
       "   {'x': 1.3049186147779994, 'y': 0.34791993795074616},\n",
       "   {'x': -0.6097146949359848, 'y': -0.9070119828769795},\n",
       "   {'x': 0.14446837945169613, 'y': -0.009497904449398673},\n",
       "   {'x': 0.10416650955678645, 'y': 0.03180224930891559}],\n",
       "  'N': 70,\n",
       "  'rho': 0.8,\n",
       "  'calcRho': 0.8712487518459073},\n",
       " 0.9: {'data': [{'x': 0.6703766418269363, 'y': 0.6462998802915161},\n",
       "   {'x': -0.9235578004240338, 'y': -1.1848186356048096},\n",
       "   {'x': 1.6409100941624022, 'y': 0.9301389743534637},\n",
       "   {'x': -0.5450099551767587, 'y': 0.07738739609400272},\n",
       "   {'x': 1.8506684972833205, 'y': 1.3356308550336524},\n",
       "   {'x': 0.8488967587846259, 'y': 1.4124405358151704},\n",
       "   {'x': 0.5831778586062345, 'y': 0.5307117335538106},\n",
       "   {'x': -1.1933393575130085, 'y': -1.6907828224373327},\n",
       "   {'x': 1.7842925114819155, 'y': 2.0338635296147602},\n",
       "   {'x': 1.8006378005765884, 'y': 0.8675336746471375},\n",
       "   {'x': -0.1160462755560247, 'y': -0.44025989531473264},\n",
       "   {'x': -1.4120656383838965, 'y': -1.0777497765390813},\n",
       "   {'x': 0.8684665893539555, 'y': 0.5335960604730691},\n",
       "   {'x': -1.0341014703522455, 'y': -0.32274799582752767},\n",
       "   {'x': -0.44608916496081275, 'y': -0.6814221783638315},\n",
       "   {'x': 0.19519163980932916, 'y': 0.30226697739298514},\n",
       "   {'x': -2.0664111997000134, 'y': -2.5450281866771483},\n",
       "   {'x': -0.29457215164712136, 'y': -0.1130925773918526},\n",
       "   {'x': -0.11415634762549956, 'y': -0.5330400786657875},\n",
       "   {'x': -0.7695763558008947, 'y': -0.17658130247473133},\n",
       "   {'x': -0.15169149904079124, 'y': -0.44035464886975106},\n",
       "   {'x': -0.3068835009762043, 'y': -0.19246883250083688},\n",
       "   {'x': 1.1886435242073465, 'y': 1.0170033125067721},\n",
       "   {'x': 0.19404838530335897, 'y': 0.26327221075842455},\n",
       "   {'x': -0.552984131145595, 'y': -0.8284636372966755},\n",
       "   {'x': 2.0784408775156598, 'y': 1.5468530231993205},\n",
       "   {'x': -1.105318845829298, 'y': -1.7049860116086162},\n",
       "   {'x': -0.887459359691304, 'y': -0.62237575161462},\n",
       "   {'x': 0.09185565674264107, 'y': -0.2516436894036672},\n",
       "   {'x': -2.6884409222480565, 'y': -1.912897225905149},\n",
       "   {'x': -1.8394512990223, 'y': -1.2795149313765033},\n",
       "   {'x': 0.291749066528216, 'y': 0.09534713786948348},\n",
       "   {'x': -1.0819899027998579, 'y': -0.9217992602976213},\n",
       "   {'x': 1.128852876973846, 'y': 1.0020173589390267},\n",
       "   {'x': -0.2475299061216049, 'y': -0.2981290034614903},\n",
       "   {'x': 1.750279135157453, 'y': 1.3777132927331168},\n",
       "   {'x': -0.9217777487749419, 'y': -0.6932426620061957},\n",
       "   {'x': -0.702729639338838, 'y': -1.0847544528602708},\n",
       "   {'x': 0.5934741971438448, 'y': 0.00819701907662615},\n",
       "   {'x': 0.7345698922458154, 'y': 0.5913205455916211},\n",
       "   {'x': -0.09970072840829722, 'y': 0.6068989859092392},\n",
       "   {'x': 1.103467575084109, 'y': 0.36702802118412114},\n",
       "   {'x': 0.3370354206321082, 'y': -0.24892233489440754},\n",
       "   {'x': 1.7948440757773587, 'y': 2.033099325054292},\n",
       "   {'x': -0.30226039468781796, 'y': -0.92151859892476},\n",
       "   {'x': 0.3445097504327742, 'y': 0.094209469740031},\n",
       "   {'x': -1.4820737668940067, 'y': -0.9442021452290054},\n",
       "   {'x': -0.6609468680206955, 'y': -0.6387738349702315},\n",
       "   {'x': -0.7688016479132478, 'y': -0.0549341678132326},\n",
       "   {'x': 0.052462097619108215, 'y': 0.44018991458484835},\n",
       "   {'x': -0.19489898838674555, 'y': -0.73188635286278},\n",
       "   {'x': -1.4213618775708488, 'y': -1.188406597077152},\n",
       "   {'x': 0.004210205671918953, 'y': 0.5993432162681736},\n",
       "   {'x': 0.90516388011288, 'y': 0.9850514340826353},\n",
       "   {'x': 0.16569851713426764, 'y': -0.1262768951418472},\n",
       "   {'x': 0.6453176185271141, 'y': 0.8420252374682984},\n",
       "   {'x': -0.08934823223426319, 'y': 0.07263048411366341},\n",
       "   {'x': 0.30390046257605335, 'y': 1.0007337392282838},\n",
       "   {'x': 0.6535332160698153, 'y': 0.9694337856038505},\n",
       "   {'x': 0.10810397233890709, 'y': 0.9502075901993675},\n",
       "   {'x': -0.22003542550394384, 'y': -0.5884249773562198},\n",
       "   {'x': -0.9132701230507574, 'y': -0.5454413385005862},\n",
       "   {'x': 0.6458443917905994, 'y': 0.27133891820694844},\n",
       "   {'x': 0.5896421736689293, 'y': 0.672068067904274},\n",
       "   {'x': -0.08700613746056146, 'y': -0.03700197187127395},\n",
       "   {'x': 0.6768684750834583, 'y': 1.0187807692479363},\n",
       "   {'x': 0.025243511472985945, 'y': 0.5787413249824007},\n",
       "   {'x': -1.1661799472599417, 'y': -0.8217328193718286},\n",
       "   {'x': 0.34151818573155857, 'y': 0.5379321603389426},\n",
       "   {'x': -0.18482892390720748, 'y': -0.7676303715497087}],\n",
       "  'N': 70,\n",
       "  'rho': 0.9,\n",
       "  'calcRho': 0.8964688314366109},\n",
       " 1.0: {'data': [{'x': 0.7441940268265855, 'y': 0.7441940236009393},\n",
       "   {'x': 0.2999544770414693, 'y': 0.29995446931419883},\n",
       "   {'x': 0.5899440902550899, 'y': 0.5899440964612953},\n",
       "   {'x': -1.01900742089754, 'y': -1.019007414252096},\n",
       "   {'x': 1.1871475838709449, 'y': 1.1871475854199371},\n",
       "   {'x': -0.8928574607040585, 'y': -0.8928574534075677},\n",
       "   {'x': 0.4028113183520193, 'y': 0.40281131847300056},\n",
       "   {'x': 0.05419081094071852, 'y': 0.054190789656713416},\n",
       "   {'x': 0.9894158716204269, 'y': 0.9894158652028278},\n",
       "   {'x': -0.1299027172742491, 'y': -0.1299027137415378},\n",
       "   {'x': -0.015360382766800556, 'y': -0.015360378110952182},\n",
       "   {'x': -0.038920337448212834, 'y': -0.03892033621242007},\n",
       "   {'x': -0.05868372472001591, 'y': -0.05868373031406948},\n",
       "   {'x': 0.45329561217456527, 'y': 0.45329561507719923},\n",
       "   {'x': -0.9448827851687007, 'y': -0.9448827863543343},\n",
       "   {'x': -0.11227886531254198, 'y': -0.11227886040175053},\n",
       "   {'x': 1.0519042871384405, 'y': 1.0519042797447067},\n",
       "   {'x': -0.10146950507755365, 'y': -0.10146950586909884},\n",
       "   {'x': -0.0447576827825155, 'y': -0.044757683978293515},\n",
       "   {'x': -0.40593245779176074, 'y': -0.4059324639327844},\n",
       "   {'x': -0.5221644868347083, 'y': -0.5221644892134718},\n",
       "   {'x': -1.675924592092501, 'y': -1.675924593899138},\n",
       "   {'x': 0.44818420440245543, 'y': 0.4481842124854159},\n",
       "   {'x': -0.5020605386762409, 'y': -0.502060540016263},\n",
       "   {'x': 1.1618610566031533, 'y': 1.1618610702701708},\n",
       "   {'x': -0.6772892406850208, 'y': -0.6772892315332918},\n",
       "   {'x': 1.565809077029702, 'y': 1.5658090869323935},\n",
       "   {'x': 0.17283255966829048, 'y': 0.17283255498901817},\n",
       "   {'x': 0.1279164431664851, 'y': 0.1279164455963901},\n",
       "   {'x': -1.747116923327796, 'y': -1.7471169181640163},\n",
       "   {'x': -0.2952204641955631, 'y': -0.2952204591081344},\n",
       "   {'x': -0.009430909656737672, 'y': -0.00943092125891156},\n",
       "   {'x': 0.33429813382606577, 'y': 0.33429812685884575},\n",
       "   {'x': 1.2711689294126038, 'y': 1.2711689246723354},\n",
       "   {'x': -0.9879495630848122, 'y': -0.9879495659310004},\n",
       "   {'x': 0.8167006370101032, 'y': 0.8167006233157751},\n",
       "   {'x': 0.48868535833215737, 'y': 0.4886853645629369},\n",
       "   {'x': -1.1229110991058395, 'y': -1.1229110811020004},\n",
       "   {'x': -0.06626511078687337, 'y': -0.06626509828009888},\n",
       "   {'x': 0.02549991103526708, 'y': 0.025499903462006195},\n",
       "   {'x': -0.4646167476523428, 'y': -0.46461676318657485},\n",
       "   {'x': 0.08001458309676825, 'y': 0.08001459667386535},\n",
       "   {'x': 0.8171367070604801, 'y': 0.8171366988877172},\n",
       "   {'x': 0.6263706780743631, 'y': 0.626370661426404},\n",
       "   {'x': -1.2889353369570153, 'y': -1.2889353468375968},\n",
       "   {'x': 0.09435164798937863, 'y': 0.09435164674029389},\n",
       "   {'x': 1.5369503546912993, 'y': 1.5369503681728893},\n",
       "   {'x': 0.27171762379738856, 'y': 0.27171761497726193},\n",
       "   {'x': 0.6736491742065384, 'y': 0.6736491781136977},\n",
       "   {'x': -1.800976917985662, 'y': -1.800976920274663},\n",
       "   {'x': 0.20504296201578787, 'y': 0.20504298372766866},\n",
       "   {'x': -1.811269919285507, 'y': -1.8112699215738362},\n",
       "   {'x': 0.5031331105499097, 'y': 0.5031331048581468},\n",
       "   {'x': -0.16419806960092853, 'y': -0.1641980662464364},\n",
       "   {'x': 1.044998749540495, 'y': 1.0449987694052016},\n",
       "   {'x': 0.16368668031881967, 'y': 0.16368669497646157},\n",
       "   {'x': 0.021002845286186053, 'y': 0.021002853128211145},\n",
       "   {'x': -0.769292386170905, 'y': -0.769292393155814},\n",
       "   {'x': -0.302420154016577, 'y': -0.302420167612571},\n",
       "   {'x': 1.3664742333668682, 'y': 1.366474218061135},\n",
       "   {'x': 0.017044647100902602, 'y': 0.017044639020951872},\n",
       "   {'x': 1.6127922137239246, 'y': 1.6127922323494892},\n",
       "   {'x': -0.3734638013397737, 'y': -0.37346378552566056},\n",
       "   {'x': -0.8583511095914843, 'y': -0.8583511108073781},\n",
       "   {'x': -0.16017642922024633, 'y': -0.1601764363218756},\n",
       "   {'x': -0.31092592755576864, 'y': -0.3109259309599711},\n",
       "   {'x': 0.08712812720808062, 'y': 0.08712812212973114},\n",
       "   {'x': -1.2716961719738988, 'y': -1.271696176546838},\n",
       "   {'x': 0.20632098679139171, 'y': 0.20632099091706932},\n",
       "   {'x': -0.5669204737849748, 'y': -0.5669204855318553}],\n",
       "  'N': 70,\n",
       "  'rho': 1.0,\n",
       "  'calcRho': 1.0}}"
      ]
     },
     "execution_count": 40,
     "metadata": {},
     "output_type": "execute_result"
    }
   ],
   "source": [
    "testData"
   ]
  },
  {
   "cell_type": "code",
   "execution_count": 32,
   "metadata": {},
   "outputs": [],
   "source": [
    "from decimal import Decimal"
   ]
  },
  {
   "cell_type": "code",
   "execution_count": 38,
   "metadata": {},
   "outputs": [
    {
     "data": {
      "text/plain": [
       "[-1.0,\n",
       " -0.9,\n",
       " -0.8,\n",
       " -0.7,\n",
       " -0.6,\n",
       " -0.5,\n",
       " -0.4,\n",
       " -0.3,\n",
       " -0.2,\n",
       " -0.1,\n",
       " 0.0,\n",
       " 0.1,\n",
       " 0.2,\n",
       " 0.3,\n",
       " 0.4,\n",
       " 0.5,\n",
       " 0.6,\n",
       " 0.7,\n",
       " 0.8,\n",
       " 0.9,\n",
       " 1.0]"
      ]
     },
     "execution_count": 38,
     "metadata": {},
     "output_type": "execute_result"
    }
   ],
   "source": []
  },
  {
   "cell_type": "code",
   "execution_count": null,
   "metadata": {},
   "outputs": [],
   "source": []
  }
 ],
 "metadata": {
  "kernelspec": {
   "display_name": "Python 3",
   "language": "python",
   "name": "python3"
  },
  "language_info": {
   "codemirror_mode": {
    "name": "ipython",
    "version": 3
   },
   "file_extension": ".py",
   "mimetype": "text/x-python",
   "name": "python",
   "nbconvert_exporter": "python",
   "pygments_lexer": "ipython3",
   "version": "3.7.1"
  },
  "toc": {
   "base_numbering": 1,
   "nav_menu": {},
   "number_sections": true,
   "sideBar": true,
   "skip_h1_title": false,
   "title_cell": "Table of Contents",
   "title_sidebar": "Contents",
   "toc_cell": false,
   "toc_position": {},
   "toc_section_display": true,
   "toc_window_display": false
  }
 },
 "nbformat": 4,
 "nbformat_minor": 2
}
